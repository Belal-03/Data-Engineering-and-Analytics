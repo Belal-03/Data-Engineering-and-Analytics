{
 "cells": [
  {
   "cell_type": "markdown",
   "id": "6b5839b4-7d2d-4fee-82bc-121946fc1342",
   "metadata": {},
   "source": [
    "# Data Engineering and Analytics\n",
    "## Assignment 1\n",
    "### Data Extraction and Integration Challenge"
   ]
  },
  {
   "cell_type": "markdown",
   "id": "955de3ca-ca01-41a4-ab3f-bd42dec94440",
   "metadata": {},
   "source": [
    "# __________________________________________________________________"
   ]
  },
  {
   "cell_type": "markdown",
   "id": "1f0db480-047a-43f8-8053-e74bd42bbcb8",
   "metadata": {},
   "source": [
    "### Belal Khaled(2136873) - Yaseen Zaqlam(2130397)"
   ]
  },
  {
   "cell_type": "markdown",
   "id": "8973a537-f836-4b4a-a8ab-d1ea4305adf1",
   "metadata": {},
   "source": [
    "# __________________________________________________________________"
   ]
  },
  {
   "cell_type": "markdown",
   "id": "b3bce6fe-1b32-4756-a5ab-05b5b8d21a86",
   "metadata": {},
   "source": [
    "# • Importing all libraries we need:"
   ]
  },
  {
   "cell_type": "code",
   "execution_count": 1,
   "id": "1c0b8782-6f30-4ad7-b48b-ec2be78f295c",
   "metadata": {},
   "outputs": [],
   "source": [
    "import requests\n",
    "from bs4 import BeautifulSoup\n",
    "import time\n",
    "import random\n",
    "import pandas as pd\n",
    "from sklearn.preprocessing import MinMaxScaler , LabelEncoder\n",
    "from sqlalchemy import create_engine\n",
    "from sqlalchemy.types import Integer, Text, String, DateTime, Float"
   ]
  },
  {
   "cell_type": "markdown",
   "id": "8e9a1c01-e4ce-4916-87c1-f1b80f949244",
   "metadata": {},
   "source": [
    "# __________________________________________________________________"
   ]
  },
  {
   "cell_type": "markdown",
   "id": "0caa3a2f-368c-4739-a3cd-897b288f4195",
   "metadata": {},
   "source": [
    "# • Task 1: Data Scraping"
   ]
  },
  {
   "cell_type": "markdown",
   "id": "4f9a777a-4b70-4091-a577-3f7a47122e80",
   "metadata": {},
   "source": [
    "### ○ Function to scrape data from Amazon search results page:"
   ]
  },
  {
   "cell_type": "code",
   "execution_count": 2,
   "id": "6bb1dba5-d47f-4e92-b2a4-1150b3ae535d",
   "metadata": {},
   "outputs": [],
   "source": [
    "def scrape_amazon_page(url):\n",
    "    headers = {\n",
    "    \"User-Agent\": \"Mozilla/5.0 (Windows NT 10.0; Win64; x64) AppleWebKit/537.36 (KHTML, like Gecko) Chrome/124.0.0.0 Safari/537.36\",\n",
    "    \"Accept\": \"text/html,application/xhtml+xml,application/xml;q=0.9,image/avif,image/webp,image/apng,/;q=0.8,application/signed-exchange;v=b3;q=0.9\",\n",
    "    \"Accept-Encoding\": \"gzip, deflate, br\",\n",
    "    \"Accept-Language\": \"en-US,en;q=0.9\",\n",
    "    \"Connection\": \"keep-alive\",\n",
    "    \"DNT\": \"1\",\n",
    "    \"Referer\": \"https://www.amazon.com/\",\n",
    "    \"Sec-Fetch-Dest\": \"document\",\n",
    "    \"Sec-Fetch-Mode\": \"navigate\",\n",
    "    \"Sec-Fetch-Site\": \"same-origin\",\n",
    "    \"Sec-Fetch-User\": \"?1\",\n",
    "    \"Upgrade-Insecure-Requests\": \"1\"\n",
    "}\n",
    "    product_data = []  # List to store product data\n",
    "    while True:  # Infinite loop until getting a 200 response\n",
    "        response = requests.get(url, headers=headers)\n",
    "        if response.status_code == 200:\n",
    "            soup = BeautifulSoup(response.content, 'html.parser') # returns html doc\n",
    "            # Extract data from the page\n",
    "            products = soup.find_all('div', {'data-component-type': 's-search-result'})\n",
    "            for product in products:\n",
    "                # Extract image URL\n",
    "                image_element = product.find('img', {'class': 's-image'})\n",
    "                image_url = image_element['src'] if image_element else 'NaN'\n",
    "                # Extract product title\n",
    "                title_element = product.find('span', {'class': 'a-size-medium a-color-base a-text-normal'})\n",
    "                title = title_element.text.strip() if title_element else 'NaN' #strip removes whitespaces(returns string)\n",
    "                # Extract product link\n",
    "                link_element = product.find('a', {'class': 'a-link-normal'})\n",
    "                link = 'https://www.amazon.com' + link_element['href'] if link_element else 'NaN'\n",
    "                # Extract product price\n",
    "                price_element = product.find('span', {'class': 'a-offscreen'})\n",
    "                price = price_element.text.strip() if price_element else 'NaN' #strip removes whitespaces(returns string)\n",
    "                # Extract product rating\n",
    "                rating_element = product.find('span', {'class': 'a-icon-alt'})\n",
    "                rating = rating_element.text.strip().split()[0] if rating_element else 'NaN' #split returns it as a list\n",
    "                # Extract number of user reviews\n",
    "                num_reviews_element = product.find('span', {'class': 'a-size-base'})\n",
    "                num_reviews = num_reviews_element.text.strip().split()[0] if num_reviews_element else 'NaN' #split returns it as a list\n",
    "                # Extract availability status\n",
    "                availability_element = product.find('span', {'class': 'a-size-base a-color-price'})\n",
    "                availability = availability_element.text.strip() if availability_element else 'Available' #strip removes whitespaces(returns string)\n",
    "                # Append data to the list\n",
    "                product_data.append({'Image URL': image_url, 'Title': title, 'Link': link, 'Price': price, \n",
    "                                     'Rating': rating,'Number of Reviews': num_reviews, 'Availability': availability})\n",
    "            break  # Exit the loop if successful\n",
    "        else:\n",
    "            print(\"Failed to fetch page:\", response.status_code)\n",
    "            # Introduce a delay before retrying\n",
    "            time.sleep(random.randint(2, 5))\n",
    "    return product_data"
   ]
  },
  {
   "cell_type": "markdown",
   "id": "435377de-b628-4e5f-a0a9-deab08ee4809",
   "metadata": {},
   "source": [
    "### ○ Function to scrape multiple pages:"
   ]
  },
  {
   "cell_type": "code",
   "execution_count": 3,
   "id": "26adc3ce-4d2e-4b4a-8e6a-91c37937b5a0",
   "metadata": {},
   "outputs": [],
   "source": [
    "def scrape_multiple_pages(base_url, num_pages):\n",
    "    all_product_data = []  # List to store data from all pages\n",
    "    for page_num in range(1, num_pages + 1):\n",
    "        url = f\"{base_url}&page={page_num}\"\n",
    "        print(f\"Scraping page {page_num}: {url}\")\n",
    "        product_data = scrape_amazon_page(url)\n",
    "        all_product_data.extend(product_data)\n",
    "        # Introduce a delay to avoid overwhelming the server\n",
    "        time.sleep(random.randint(2, 5))  \n",
    "    return all_product_data"
   ]
  },
  {
   "cell_type": "markdown",
   "id": "9cf0400d-5804-4e03-aa91-8b38387ade87",
   "metadata": {},
   "source": [
    "#### - URL of the Amazon search results page for laptops:\n",
    "#### - Number of pages to scrape:"
   ]
  },
  {
   "cell_type": "code",
   "execution_count": 4,
   "id": "549b8480-3fe0-4551-9913-b1c2dd304bc7",
   "metadata": {},
   "outputs": [],
   "source": [
    "base_url = \"https://www.amazon.com/s?k=laptops&crid=1H049JIFTK5QX&sprefix=laptop%2Caps%2C212&ref=nb_sb_noss_1\"\n",
    "num_pages = 20"
   ]
  },
  {
   "cell_type": "markdown",
   "id": "490ff93c-e51d-4705-b4bf-c4a88904534d",
   "metadata": {},
   "source": [
    "### ○ Call the function to scrape multiple pages:"
   ]
  },
  {
   "cell_type": "code",
   "execution_count": 5,
   "id": "9adfceb1-4ad9-4bb9-8837-1ef9a5330966",
   "metadata": {},
   "outputs": [
    {
     "name": "stdout",
     "output_type": "stream",
     "text": [
      "Scraping page 1: https://www.amazon.com/s?k=laptops&crid=1H049JIFTK5QX&sprefix=laptop%2Caps%2C212&ref=nb_sb_noss_1&page=1\n",
      "Failed to fetch page: 503\n",
      "Failed to fetch page: 503\n",
      "Scraping page 2: https://www.amazon.com/s?k=laptops&crid=1H049JIFTK5QX&sprefix=laptop%2Caps%2C212&ref=nb_sb_noss_1&page=2\n",
      "Failed to fetch page: 503\n",
      "Scraping page 3: https://www.amazon.com/s?k=laptops&crid=1H049JIFTK5QX&sprefix=laptop%2Caps%2C212&ref=nb_sb_noss_1&page=3\n",
      "Failed to fetch page: 503\n",
      "Failed to fetch page: 503\n",
      "Failed to fetch page: 503\n",
      "Failed to fetch page: 503\n",
      "Failed to fetch page: 503\n",
      "Failed to fetch page: 503\n",
      "Failed to fetch page: 503\n",
      "Failed to fetch page: 503\n",
      "Failed to fetch page: 503\n",
      "Failed to fetch page: 503\n",
      "Failed to fetch page: 503\n",
      "Failed to fetch page: 503\n",
      "Failed to fetch page: 503\n",
      "Failed to fetch page: 503\n",
      "Failed to fetch page: 503\n",
      "Scraping page 4: https://www.amazon.com/s?k=laptops&crid=1H049JIFTK5QX&sprefix=laptop%2Caps%2C212&ref=nb_sb_noss_1&page=4\n",
      "Failed to fetch page: 503\n",
      "Failed to fetch page: 503\n",
      "Failed to fetch page: 503\n",
      "Failed to fetch page: 503\n",
      "Failed to fetch page: 503\n",
      "Failed to fetch page: 503\n",
      "Failed to fetch page: 503\n",
      "Failed to fetch page: 503\n",
      "Failed to fetch page: 503\n",
      "Failed to fetch page: 503\n",
      "Failed to fetch page: 503\n",
      "Failed to fetch page: 503\n",
      "Scraping page 5: https://www.amazon.com/s?k=laptops&crid=1H049JIFTK5QX&sprefix=laptop%2Caps%2C212&ref=nb_sb_noss_1&page=5\n",
      "Scraping page 6: https://www.amazon.com/s?k=laptops&crid=1H049JIFTK5QX&sprefix=laptop%2Caps%2C212&ref=nb_sb_noss_1&page=6\n",
      "Failed to fetch page: 503\n",
      "Failed to fetch page: 503\n",
      "Scraping page 7: https://www.amazon.com/s?k=laptops&crid=1H049JIFTK5QX&sprefix=laptop%2Caps%2C212&ref=nb_sb_noss_1&page=7\n",
      "Failed to fetch page: 503\n",
      "Failed to fetch page: 503\n",
      "Failed to fetch page: 503\n",
      "Failed to fetch page: 503\n",
      "Failed to fetch page: 503\n",
      "Scraping page 8: https://www.amazon.com/s?k=laptops&crid=1H049JIFTK5QX&sprefix=laptop%2Caps%2C212&ref=nb_sb_noss_1&page=8\n",
      "Failed to fetch page: 503\n",
      "Failed to fetch page: 503\n",
      "Failed to fetch page: 503\n",
      "Failed to fetch page: 503\n",
      "Failed to fetch page: 503\n",
      "Failed to fetch page: 503\n",
      "Scraping page 9: https://www.amazon.com/s?k=laptops&crid=1H049JIFTK5QX&sprefix=laptop%2Caps%2C212&ref=nb_sb_noss_1&page=9\n",
      "Failed to fetch page: 503\n",
      "Failed to fetch page: 503\n",
      "Failed to fetch page: 503\n",
      "Failed to fetch page: 503\n",
      "Failed to fetch page: 503\n",
      "Failed to fetch page: 503\n",
      "Failed to fetch page: 503\n",
      "Failed to fetch page: 503\n",
      "Failed to fetch page: 503\n",
      "Failed to fetch page: 503\n",
      "Failed to fetch page: 503\n",
      "Failed to fetch page: 503\n",
      "Failed to fetch page: 503\n",
      "Failed to fetch page: 503\n",
      "Failed to fetch page: 503\n",
      "Failed to fetch page: 503\n",
      "Failed to fetch page: 503\n",
      "Failed to fetch page: 503\n",
      "Failed to fetch page: 503\n",
      "Failed to fetch page: 503\n",
      "Failed to fetch page: 503\n",
      "Failed to fetch page: 503\n",
      "Failed to fetch page: 503\n",
      "Failed to fetch page: 503\n",
      "Failed to fetch page: 503\n",
      "Failed to fetch page: 503\n",
      "Failed to fetch page: 503\n",
      "Failed to fetch page: 503\n",
      "Failed to fetch page: 503\n",
      "Failed to fetch page: 503\n",
      "Failed to fetch page: 503\n",
      "Failed to fetch page: 503\n",
      "Failed to fetch page: 503\n",
      "Failed to fetch page: 503\n",
      "Failed to fetch page: 503\n",
      "Scraping page 10: https://www.amazon.com/s?k=laptops&crid=1H049JIFTK5QX&sprefix=laptop%2Caps%2C212&ref=nb_sb_noss_1&page=10\n",
      "Failed to fetch page: 503\n",
      "Failed to fetch page: 503\n",
      "Failed to fetch page: 503\n",
      "Failed to fetch page: 503\n",
      "Failed to fetch page: 503\n",
      "Failed to fetch page: 503\n",
      "Failed to fetch page: 503\n",
      "Failed to fetch page: 503\n",
      "Failed to fetch page: 503\n",
      "Scraping page 11: https://www.amazon.com/s?k=laptops&crid=1H049JIFTK5QX&sprefix=laptop%2Caps%2C212&ref=nb_sb_noss_1&page=11\n",
      "Failed to fetch page: 503\n",
      "Failed to fetch page: 503\n",
      "Failed to fetch page: 503\n",
      "Failed to fetch page: 503\n",
      "Failed to fetch page: 503\n",
      "Failed to fetch page: 503\n",
      "Failed to fetch page: 503\n",
      "Scraping page 12: https://www.amazon.com/s?k=laptops&crid=1H049JIFTK5QX&sprefix=laptop%2Caps%2C212&ref=nb_sb_noss_1&page=12\n",
      "Failed to fetch page: 503\n",
      "Failed to fetch page: 503\n",
      "Failed to fetch page: 503\n",
      "Failed to fetch page: 503\n",
      "Failed to fetch page: 503\n",
      "Failed to fetch page: 503\n",
      "Failed to fetch page: 503\n",
      "Failed to fetch page: 503\n",
      "Failed to fetch page: 503\n",
      "Failed to fetch page: 503\n",
      "Failed to fetch page: 503\n",
      "Failed to fetch page: 503\n",
      "Failed to fetch page: 503\n",
      "Failed to fetch page: 503\n",
      "Failed to fetch page: 503\n",
      "Failed to fetch page: 503\n",
      "Failed to fetch page: 503\n",
      "Failed to fetch page: 503\n",
      "Failed to fetch page: 503\n",
      "Failed to fetch page: 503\n",
      "Failed to fetch page: 503\n",
      "Failed to fetch page: 503\n",
      "Failed to fetch page: 503\n",
      "Failed to fetch page: 503\n",
      "Failed to fetch page: 503\n",
      "Failed to fetch page: 503\n",
      "Failed to fetch page: 503\n",
      "Failed to fetch page: 503\n",
      "Failed to fetch page: 503\n",
      "Failed to fetch page: 503\n",
      "Failed to fetch page: 503\n",
      "Failed to fetch page: 503\n",
      "Failed to fetch page: 503\n",
      "Failed to fetch page: 503\n",
      "Failed to fetch page: 503\n",
      "Failed to fetch page: 503\n",
      "Failed to fetch page: 503\n",
      "Failed to fetch page: 503\n",
      "Failed to fetch page: 503\n",
      "Failed to fetch page: 503\n",
      "Failed to fetch page: 503\n",
      "Failed to fetch page: 503\n",
      "Failed to fetch page: 503\n",
      "Failed to fetch page: 503\n",
      "Failed to fetch page: 503\n",
      "Failed to fetch page: 503\n",
      "Scraping page 13: https://www.amazon.com/s?k=laptops&crid=1H049JIFTK5QX&sprefix=laptop%2Caps%2C212&ref=nb_sb_noss_1&page=13\n",
      "Failed to fetch page: 503\n",
      "Failed to fetch page: 503\n",
      "Scraping page 14: https://www.amazon.com/s?k=laptops&crid=1H049JIFTK5QX&sprefix=laptop%2Caps%2C212&ref=nb_sb_noss_1&page=14\n",
      "Failed to fetch page: 503\n",
      "Failed to fetch page: 503\n",
      "Failed to fetch page: 503\n",
      "Failed to fetch page: 503\n",
      "Failed to fetch page: 503\n",
      "Failed to fetch page: 503\n",
      "Failed to fetch page: 503\n",
      "Failed to fetch page: 503\n",
      "Failed to fetch page: 503\n",
      "Failed to fetch page: 503\n",
      "Failed to fetch page: 503\n",
      "Failed to fetch page: 503\n",
      "Failed to fetch page: 503\n",
      "Failed to fetch page: 503\n",
      "Failed to fetch page: 503\n",
      "Failed to fetch page: 503\n",
      "Failed to fetch page: 503\n",
      "Failed to fetch page: 503\n",
      "Failed to fetch page: 503\n",
      "Failed to fetch page: 503\n",
      "Failed to fetch page: 503\n",
      "Failed to fetch page: 503\n",
      "Failed to fetch page: 503\n",
      "Failed to fetch page: 503\n",
      "Failed to fetch page: 503\n",
      "Failed to fetch page: 503\n",
      "Failed to fetch page: 503\n",
      "Failed to fetch page: 503\n",
      "Failed to fetch page: 503\n",
      "Scraping page 15: https://www.amazon.com/s?k=laptops&crid=1H049JIFTK5QX&sprefix=laptop%2Caps%2C212&ref=nb_sb_noss_1&page=15\n",
      "Failed to fetch page: 503\n",
      "Failed to fetch page: 503\n",
      "Failed to fetch page: 503\n",
      "Failed to fetch page: 503\n",
      "Failed to fetch page: 503\n",
      "Failed to fetch page: 503\n",
      "Failed to fetch page: 503\n",
      "Failed to fetch page: 503\n",
      "Scraping page 16: https://www.amazon.com/s?k=laptops&crid=1H049JIFTK5QX&sprefix=laptop%2Caps%2C212&ref=nb_sb_noss_1&page=16\n",
      "Failed to fetch page: 503\n",
      "Failed to fetch page: 503\n",
      "Failed to fetch page: 503\n",
      "Failed to fetch page: 503\n",
      "Failed to fetch page: 503\n",
      "Scraping page 17: https://www.amazon.com/s?k=laptops&crid=1H049JIFTK5QX&sprefix=laptop%2Caps%2C212&ref=nb_sb_noss_1&page=17\n",
      "Failed to fetch page: 503\n",
      "Failed to fetch page: 503\n",
      "Failed to fetch page: 503\n",
      "Failed to fetch page: 503\n",
      "Failed to fetch page: 503\n",
      "Failed to fetch page: 503\n",
      "Failed to fetch page: 503\n",
      "Failed to fetch page: 503\n",
      "Failed to fetch page: 503\n",
      "Failed to fetch page: 503\n",
      "Failed to fetch page: 503\n",
      "Failed to fetch page: 503\n",
      "Failed to fetch page: 503\n",
      "Failed to fetch page: 503\n",
      "Failed to fetch page: 503\n",
      "Failed to fetch page: 503\n",
      "Failed to fetch page: 503\n",
      "Failed to fetch page: 503\n",
      "Failed to fetch page: 503\n",
      "Failed to fetch page: 503\n",
      "Failed to fetch page: 503\n",
      "Failed to fetch page: 503\n",
      "Failed to fetch page: 503\n",
      "Failed to fetch page: 503\n",
      "Failed to fetch page: 503\n",
      "Failed to fetch page: 503\n",
      "Failed to fetch page: 503\n",
      "Failed to fetch page: 503\n",
      "Failed to fetch page: 503\n",
      "Failed to fetch page: 503\n",
      "Failed to fetch page: 503\n",
      "Failed to fetch page: 503\n",
      "Failed to fetch page: 503\n",
      "Failed to fetch page: 503\n",
      "Failed to fetch page: 503\n",
      "Failed to fetch page: 503\n",
      "Failed to fetch page: 503\n",
      "Failed to fetch page: 503\n",
      "Failed to fetch page: 503\n",
      "Failed to fetch page: 503\n",
      "Failed to fetch page: 503\n",
      "Failed to fetch page: 503\n",
      "Failed to fetch page: 503\n",
      "Scraping page 18: https://www.amazon.com/s?k=laptops&crid=1H049JIFTK5QX&sprefix=laptop%2Caps%2C212&ref=nb_sb_noss_1&page=18\n",
      "Failed to fetch page: 503\n",
      "Failed to fetch page: 503\n",
      "Failed to fetch page: 503\n",
      "Scraping page 19: https://www.amazon.com/s?k=laptops&crid=1H049JIFTK5QX&sprefix=laptop%2Caps%2C212&ref=nb_sb_noss_1&page=19\n",
      "Failed to fetch page: 503\n",
      "Failed to fetch page: 503\n",
      "Failed to fetch page: 503\n",
      "Failed to fetch page: 503\n",
      "Failed to fetch page: 503\n",
      "Failed to fetch page: 503\n",
      "Failed to fetch page: 503\n",
      "Failed to fetch page: 503\n",
      "Failed to fetch page: 503\n",
      "Failed to fetch page: 503\n",
      "Failed to fetch page: 503\n",
      "Failed to fetch page: 503\n",
      "Scraping page 20: https://www.amazon.com/s?k=laptops&crid=1H049JIFTK5QX&sprefix=laptop%2Caps%2C212&ref=nb_sb_noss_1&page=20\n",
      "Failed to fetch page: 503\n",
      "Failed to fetch page: 503\n",
      "Failed to fetch page: 503\n"
     ]
    }
   ],
   "source": [
    "all_product_data = scrape_multiple_pages(base_url, num_pages)"
   ]
  },
  {
   "cell_type": "markdown",
   "id": "2d7f8492-1f3f-4924-a958-ac1a7dae5cd8",
   "metadata": {},
   "source": [
    "#### - Create a DataFrame from the scraped data:\n",
    "#### - Save the DataFrame to an Excel file:\n"
   ]
  },
  {
   "cell_type": "code",
   "execution_count": 6,
   "id": "3b88e3bc-20f3-4cb4-9a4d-0517bc887ded",
   "metadata": {},
   "outputs": [
    {
     "data": {
      "text/html": [
       "<div>\n",
       "<style scoped>\n",
       "    .dataframe tbody tr th:only-of-type {\n",
       "        vertical-align: middle;\n",
       "    }\n",
       "\n",
       "    .dataframe tbody tr th {\n",
       "        vertical-align: top;\n",
       "    }\n",
       "\n",
       "    .dataframe thead th {\n",
       "        text-align: right;\n",
       "    }\n",
       "</style>\n",
       "<table border=\"1\" class=\"dataframe\">\n",
       "  <thead>\n",
       "    <tr style=\"text-align: right;\">\n",
       "      <th></th>\n",
       "      <th>Image URL</th>\n",
       "      <th>Title</th>\n",
       "      <th>Link</th>\n",
       "      <th>Price</th>\n",
       "      <th>Rating</th>\n",
       "      <th>Number of Reviews</th>\n",
       "      <th>Availability</th>\n",
       "    </tr>\n",
       "  </thead>\n",
       "  <tbody>\n",
       "    <tr>\n",
       "      <th>0</th>\n",
       "      <td>https://m.media-amazon.com/images/I/71pTP-ll4s...</td>\n",
       "      <td>HP 15.6\" Portable Laptop (Include 1 Year Micro...</td>\n",
       "      <td>https://www.amazon.com/HP-Portable-Microsoft-Q...</td>\n",
       "      <td>$309.99</td>\n",
       "      <td>4.3</td>\n",
       "      <td>Amazon's</td>\n",
       "      <td>Available</td>\n",
       "    </tr>\n",
       "    <tr>\n",
       "      <th>1</th>\n",
       "      <td>https://m.media-amazon.com/images/I/61gKkYQn6l...</td>\n",
       "      <td>Acer Aspire 3 A315-24P-R7VH Slim Laptop | 15.6...</td>\n",
       "      <td>https://www.amazon.com/A315-24P-R7VH-Display-Q...</td>\n",
       "      <td>NaN</td>\n",
       "      <td>4.3</td>\n",
       "      <td>1,747</td>\n",
       "      <td>Available</td>\n",
       "    </tr>\n",
       "    <tr>\n",
       "      <th>2</th>\n",
       "      <td>https://m.media-amazon.com/images/I/71CDSpds6j...</td>\n",
       "      <td>HP 17 Laptop, 17.3” HD+ Display, 11th Gen Inte...</td>\n",
       "      <td>https://www.amazon.com/HP-Display-i3-1125G4-Pr...</td>\n",
       "      <td>NaN</td>\n",
       "      <td>4.4</td>\n",
       "      <td>572</td>\n",
       "      <td>Available</td>\n",
       "    </tr>\n",
       "    <tr>\n",
       "      <th>3</th>\n",
       "      <td>https://m.media-amazon.com/images/I/711OHeRmEa...</td>\n",
       "      <td>HP Newest 14\" Ultral Light Laptop for Students...</td>\n",
       "      <td>https://www.amazon.com/HP-Students-Business-Qu...</td>\n",
       "      <td>NaN</td>\n",
       "      <td>4.2</td>\n",
       "      <td>1,806</td>\n",
       "      <td>Available</td>\n",
       "    </tr>\n",
       "    <tr>\n",
       "      <th>4</th>\n",
       "      <td>https://m.media-amazon.com/images/I/815uX7wkOZ...</td>\n",
       "      <td>HP 14 Laptop, Intel Celeron N4020, 4 GB RAM, 6...</td>\n",
       "      <td>https://www.amazon.com/HP-Micro-edge-Microsoft...</td>\n",
       "      <td>$186.94</td>\n",
       "      <td>3.9</td>\n",
       "      <td>1,291</td>\n",
       "      <td>Available</td>\n",
       "    </tr>\n",
       "  </tbody>\n",
       "</table>\n",
       "</div>"
      ],
      "text/plain": [
       "                                           Image URL  \\\n",
       "0  https://m.media-amazon.com/images/I/71pTP-ll4s...   \n",
       "1  https://m.media-amazon.com/images/I/61gKkYQn6l...   \n",
       "2  https://m.media-amazon.com/images/I/71CDSpds6j...   \n",
       "3  https://m.media-amazon.com/images/I/711OHeRmEa...   \n",
       "4  https://m.media-amazon.com/images/I/815uX7wkOZ...   \n",
       "\n",
       "                                               Title  \\\n",
       "0  HP 15.6\" Portable Laptop (Include 1 Year Micro...   \n",
       "1  Acer Aspire 3 A315-24P-R7VH Slim Laptop | 15.6...   \n",
       "2  HP 17 Laptop, 17.3” HD+ Display, 11th Gen Inte...   \n",
       "3  HP Newest 14\" Ultral Light Laptop for Students...   \n",
       "4  HP 14 Laptop, Intel Celeron N4020, 4 GB RAM, 6...   \n",
       "\n",
       "                                                Link    Price Rating  \\\n",
       "0  https://www.amazon.com/HP-Portable-Microsoft-Q...  $309.99    4.3   \n",
       "1  https://www.amazon.com/A315-24P-R7VH-Display-Q...      NaN    4.3   \n",
       "2  https://www.amazon.com/HP-Display-i3-1125G4-Pr...      NaN    4.4   \n",
       "3  https://www.amazon.com/HP-Students-Business-Qu...      NaN    4.2   \n",
       "4  https://www.amazon.com/HP-Micro-edge-Microsoft...  $186.94    3.9   \n",
       "\n",
       "  Number of Reviews Availability  \n",
       "0          Amazon's    Available  \n",
       "1             1,747    Available  \n",
       "2               572    Available  \n",
       "3             1,806    Available  \n",
       "4             1,291    Available  "
      ]
     },
     "execution_count": 6,
     "metadata": {},
     "output_type": "execute_result"
    }
   ],
   "source": [
    "df = pd.DataFrame(all_product_data)\n",
    "df.to_excel('amazon_laptops.xlsx', index=False)\n",
    "\n",
    "#first 5 rows:\n",
    "df.head()"
   ]
  },
  {
   "cell_type": "markdown",
   "id": "e260a874-61e8-45d5-9bca-afdff7217bc1",
   "metadata": {},
   "source": [
    "# __________________________________________________________________"
   ]
  },
  {
   "cell_type": "markdown",
   "id": "cfc5728f-8173-44c4-bc4a-ec076b3968f3",
   "metadata": {},
   "source": [
    "# • Task 2: Data Preprocessing and Transformation"
   ]
  },
  {
   "cell_type": "code",
   "execution_count": 7,
   "id": "2a4a616c-29ce-4a34-b929-46ead03b2d76",
   "metadata": {},
   "outputs": [
    {
     "name": "stdout",
     "output_type": "stream",
     "text": [
      "<class 'pandas.core.frame.DataFrame'>\n",
      "RangeIndex: 425 entries, 0 to 424\n",
      "Data columns (total 7 columns):\n",
      " #   Column             Non-Null Count  Dtype \n",
      "---  ------             --------------  ----- \n",
      " 0   Image URL          425 non-null    object\n",
      " 1   Title              425 non-null    object\n",
      " 2   Link               425 non-null    object\n",
      " 3   Price              425 non-null    object\n",
      " 4   Rating             425 non-null    object\n",
      " 5   Number of Reviews  425 non-null    object\n",
      " 6   Availability       425 non-null    object\n",
      "dtypes: object(7)\n",
      "memory usage: 23.4+ KB\n"
     ]
    }
   ],
   "source": [
    "#Extracting DataFrame(df) info:\n",
    "df.info()"
   ]
  },
  {
   "cell_type": "code",
   "execution_count": 8,
   "id": "157679b3-986e-4992-9b2a-2a8bbc8aadcb",
   "metadata": {},
   "outputs": [
    {
     "name": "stdout",
     "output_type": "stream",
     "text": [
      "Number of 'NaN' occurrences in each column:\n",
      "Image URL              0\n",
      "Title                  0\n",
      "Link                   0\n",
      "Price                234\n",
      "Rating                26\n",
      "Number of Reviews     12\n",
      "Availability           0\n",
      "dtype: int64\n",
      "Number of null values:\n",
      "Image URL            0\n",
      "Title                0\n",
      "Link                 0\n",
      "Price                0\n",
      "Rating               0\n",
      "Number of Reviews    0\n",
      "Availability         0\n",
      "dtype: int64\n"
     ]
    }
   ],
   "source": [
    "#Count the occurrences of 'NaN' in each column\n",
    "NaN_counts = df.apply(lambda x: x.value_counts().get('NaN', 0))\n",
    "null_counts = df.isnull().sum()\n",
    "\n",
    "#Print the counts of NaN\n",
    "print(\"Number of 'NaN' occurrences in each column:\")\n",
    "print(NaN_counts)\n",
    "\n",
    "#Print the counts of null values\n",
    "print(\"Number of null values:\")\n",
    "print(null_counts)"
   ]
  },
  {
   "cell_type": "markdown",
   "id": "d6c28e43-096e-4041-8d87-8449f2d2d5ad",
   "metadata": {},
   "source": [
    "### ○ Takes a copy of DataFrame(df) to start Data Preprocessing and Transformation:"
   ]
  },
  {
   "cell_type": "code",
   "execution_count": 9,
   "id": "aeb84af8-ae2a-406e-8e23-f323abec26a0",
   "metadata": {},
   "outputs": [
    {
     "data": {
      "text/plain": [
       "Index(['Image URL', 'Title', 'Link', 'Price', 'Rating', 'Number of Reviews',\n",
       "       'Availability'],\n",
       "      dtype='object')"
      ]
     },
     "execution_count": 9,
     "metadata": {},
     "output_type": "execute_result"
    }
   ],
   "source": [
    "df2 = df.copy()\n",
    "\n",
    "#Keys of df2 (test):\n",
    "df2.keys()"
   ]
  },
  {
   "cell_type": "markdown",
   "id": "8274c059-4688-4290-b81b-f0ac8f3fe8ca",
   "metadata": {},
   "source": [
    "# __________________________________________________________________"
   ]
  },
  {
   "cell_type": "markdown",
   "id": "8da110d9-4d7a-4e08-adab-c595228d9c82",
   "metadata": {},
   "source": [
    "## • Task 2.1\n",
    "### • Data Cleaning:\n",
    "\n",
    "### ○ Starting with 'Price' column:"
   ]
  },
  {
   "cell_type": "code",
   "execution_count": 10,
   "id": "e9188d02-0846-4f46-80d4-e6a694f18eac",
   "metadata": {},
   "outputs": [
    {
     "name": "stderr",
     "output_type": "stream",
     "text": [
      "C:\\Users\\MIS\\AppData\\Local\\Temp/ipykernel_16128/899882573.py:1: FutureWarning: The default value of regex will change from True to False in a future version. In addition, single character regular expressions will *not* be treated as literal strings when regex=True.\n",
      "  df2['Price'] = df2['Price'].str.replace('$', '') #removing $ sign\n"
     ]
    }
   ],
   "source": [
    "df2['Price'] = df2['Price'].str.replace('$', '') #removing $ sign \n",
    "df2['Price'] = df2['Price'].str.replace(',', '') #removing ,\n",
    "df2['Price'] = df2['Price'].astype(float) #changing the Price datatype to float"
   ]
  },
  {
   "cell_type": "code",
   "execution_count": 11,
   "id": "c818fbed-d781-469c-8a8d-6d149fa132fe",
   "metadata": {},
   "outputs": [
    {
     "data": {
      "text/plain": [
       "0    309.99\n",
       "1       NaN\n",
       "2       NaN\n",
       "3       NaN\n",
       "4    186.94\n",
       "Name: Price, dtype: float64"
      ]
     },
     "execution_count": 11,
     "metadata": {},
     "output_type": "execute_result"
    }
   ],
   "source": [
    "df2['Price'].head()"
   ]
  },
  {
   "cell_type": "markdown",
   "id": "e9ee7c8d-b3ae-4514-9bcc-73657cf8851b",
   "metadata": {},
   "source": [
    "### ○ Then 'Rating' cloumn:"
   ]
  },
  {
   "cell_type": "code",
   "execution_count": 12,
   "id": "fcdba9a0-5058-4a76-bf56-bd606a73ab98",
   "metadata": {},
   "outputs": [],
   "source": [
    "df2['Rating'] = df2['Rating'].astype(float) #changing the Rating datatype to float"
   ]
  },
  {
   "cell_type": "code",
   "execution_count": 13,
   "id": "b4ea6cc7-516d-4fa8-bf7f-68d772e15fd3",
   "metadata": {},
   "outputs": [
    {
     "data": {
      "text/plain": [
       "0    4.3\n",
       "1    4.3\n",
       "2    4.4\n",
       "3    4.2\n",
       "4    3.9\n",
       "Name: Rating, dtype: float64"
      ]
     },
     "execution_count": 13,
     "metadata": {},
     "output_type": "execute_result"
    }
   ],
   "source": [
    "df2['Rating'].head()"
   ]
  },
  {
   "cell_type": "markdown",
   "id": "bb4f1ce0-d5ab-4702-a561-6869a5d69fac",
   "metadata": {},
   "source": [
    "### ○ Finally 'Number of Reviews' cloumn:"
   ]
  },
  {
   "cell_type": "code",
   "execution_count": 14,
   "id": "1a261a52-306a-4d19-b31c-93b59fc4ca01",
   "metadata": {},
   "outputs": [
    {
     "data": {
      "text/plain": [
       "array([\"Amazon's\", '1,747', '572', '1,806', '1,291', '822', '40', '72',\n",
       "       '943', '50', '309', '51', '208', '66', '580', '2,448', '2', '11',\n",
       "       '63', '587', '58', '502', '68', '91', '573', '27', '274', '32',\n",
       "       '458', '1,052', '1,874', '35', '467', '418', '202', '28', 'Only',\n",
       "       'NaN', '167', '4,196', '93', '386', '67', '469', '4', '230', '6',\n",
       "       '18', '252', '187', '81', '10', '80', '468', '85', '188', '119',\n",
       "       '8', '2,542', '144', '9', '191', '3', '1,167', '135', '87', '354',\n",
       "       '4,388', '88', '410', '15', '131', '3,369', '43', '31', '306',\n",
       "       '89', '62', '47', '243', '13', '30', '2,486', '253', '177', '37',\n",
       "       '165', '214', '48', '372', '20,112', '10,325', '26', '3,850', '25',\n",
       "       '14', '557', '36', '73', '21', '611', '342', '290', '332', '1',\n",
       "       '46', '498', '23', '42', '5,979', '415', '76', '183', '8,567',\n",
       "       '426', '634', '146', '151', '125', '19', '100', '222', '228',\n",
       "       '136', '1,323', '52', '82', '61', '409', '20', '876', '300', '78',\n",
       "       '2,217', '108', '12', '157', '236', '420', '213', '237', '106',\n",
       "       '140', '44', '416', '96', '166', '41', '17', '53', '45', '143',\n",
       "       '406', '2,014', '127', '94', '60', '103', '7', 'No', '74', '99',\n",
       "       '529', '75', '120', 'More', '318', '262', '193', '33', '57', '22',\n",
       "       '220', '113', '55', '1,722', '330', '224', '325', '986', '182',\n",
       "       '1,016', '982', '483', '2,548', '368', '34', '5', '145', '97',\n",
       "       '390', '174', '219', '24', '77'], dtype=object)"
      ]
     },
     "execution_count": 14,
     "metadata": {},
     "output_type": "execute_result"
    }
   ],
   "source": [
    "df2['Number of Reviews'].unique()"
   ]
  },
  {
   "cell_type": "code",
   "execution_count": 15,
   "id": "3b95547d-782b-43ea-aae6-d8127c8a5fb6",
   "metadata": {},
   "outputs": [],
   "source": [
    "df2['Number of Reviews'] = df2['Number of Reviews'].str.replace(r\"[A-z':,+]\", '',regex=True)\n",
    "df2['Number of Reviews'] = df2['Number of Reviews'].str.replace(r'[\\s]+','NaN',regex=True)\n",
    "df2['Number of Reviews'] = df2['Number of Reviews'].replace('', 'NaN')\n",
    "df2['Number of Reviews'] = df2['Number of Reviews'].astype(float) #changing the Number of Reviews datatype to float"
   ]
  },
  {
   "cell_type": "code",
   "execution_count": 16,
   "id": "f886fd8f-266f-4090-bb59-55f899a902d8",
   "metadata": {},
   "outputs": [
    {
     "data": {
      "text/plain": [
       "0       NaN\n",
       "1    1747.0\n",
       "2     572.0\n",
       "3    1806.0\n",
       "4    1291.0\n",
       "Name: Number of Reviews, dtype: float64"
      ]
     },
     "execution_count": 16,
     "metadata": {},
     "output_type": "execute_result"
    }
   ],
   "source": [
    "df2['Number of Reviews'].head()"
   ]
  },
  {
   "cell_type": "markdown",
   "id": "9743c0d2-9659-464f-9cb7-3f0210af5992",
   "metadata": {},
   "source": [
    "### ○ Changing the datatypes from float64 to float32 for these columns:"
   ]
  },
  {
   "cell_type": "code",
   "execution_count": 17,
   "id": "22005261-0eb9-4562-9041-743945b16f99",
   "metadata": {},
   "outputs": [],
   "source": [
    "df2 = df2.astype({'Price': 'float32', 'Rating': 'float32','Number of Reviews':'float32'})"
   ]
  },
  {
   "cell_type": "code",
   "execution_count": 18,
   "id": "ad974bb2-0cf1-4756-987e-daae4a2c54de",
   "metadata": {},
   "outputs": [
    {
     "name": "stdout",
     "output_type": "stream",
     "text": [
      "<class 'pandas.core.frame.DataFrame'>\n",
      "RangeIndex: 425 entries, 0 to 424\n",
      "Data columns (total 7 columns):\n",
      " #   Column             Non-Null Count  Dtype  \n",
      "---  ------             --------------  -----  \n",
      " 0   Image URL          425 non-null    object \n",
      " 1   Title              425 non-null    object \n",
      " 2   Link               425 non-null    object \n",
      " 3   Price              191 non-null    float32\n",
      " 4   Rating             399 non-null    float32\n",
      " 5   Number of Reviews  396 non-null    float32\n",
      " 6   Availability       425 non-null    object \n",
      "dtypes: float32(3), object(4)\n",
      "memory usage: 18.4+ KB\n"
     ]
    }
   ],
   "source": [
    "df2.info() #Checking"
   ]
  },
  {
   "cell_type": "markdown",
   "id": "f9a4fb20-7c84-41b0-b0d1-ffaee5022f7d",
   "metadata": {},
   "source": [
    "### ○ Handeling Missing Values (NaN) BY MEAN:"
   ]
  },
  {
   "cell_type": "code",
   "execution_count": 19,
   "id": "8cb18d3e-7204-4306-9439-26da67d5999e",
   "metadata": {},
   "outputs": [
    {
     "data": {
      "text/plain": [
       "[495.02728271484375, 4.230831146240234, 343.43182373046875]"
      ]
     },
     "execution_count": 19,
     "metadata": {},
     "output_type": "execute_result"
    }
   ],
   "source": [
    "#Extracting the mean values for these columns\n",
    "Mean=[df2['Price'].mean(),df2['Rating'].mean(),df2['Number of Reviews'].mean()]\n",
    "Mean"
   ]
  },
  {
   "cell_type": "code",
   "execution_count": 20,
   "id": "021046e6-5723-4706-ac4e-87925139e617",
   "metadata": {},
   "outputs": [
    {
     "data": {
      "text/html": [
       "<div>\n",
       "<style scoped>\n",
       "    .dataframe tbody tr th:only-of-type {\n",
       "        vertical-align: middle;\n",
       "    }\n",
       "\n",
       "    .dataframe tbody tr th {\n",
       "        vertical-align: top;\n",
       "    }\n",
       "\n",
       "    .dataframe thead th {\n",
       "        text-align: right;\n",
       "    }\n",
       "</style>\n",
       "<table border=\"1\" class=\"dataframe\">\n",
       "  <thead>\n",
       "    <tr style=\"text-align: right;\">\n",
       "      <th></th>\n",
       "      <th>Image URL</th>\n",
       "      <th>Title</th>\n",
       "      <th>Link</th>\n",
       "      <th>Price</th>\n",
       "      <th>Rating</th>\n",
       "      <th>Number of Reviews</th>\n",
       "      <th>Availability</th>\n",
       "    </tr>\n",
       "  </thead>\n",
       "  <tbody>\n",
       "    <tr>\n",
       "      <th>0</th>\n",
       "      <td>https://m.media-amazon.com/images/I/71pTP-ll4s...</td>\n",
       "      <td>HP 15.6\" Portable Laptop (Include 1 Year Micro...</td>\n",
       "      <td>https://www.amazon.com/HP-Portable-Microsoft-Q...</td>\n",
       "      <td>309.989990</td>\n",
       "      <td>4.3</td>\n",
       "      <td>343.431824</td>\n",
       "      <td>Available</td>\n",
       "    </tr>\n",
       "    <tr>\n",
       "      <th>1</th>\n",
       "      <td>https://m.media-amazon.com/images/I/61gKkYQn6l...</td>\n",
       "      <td>Acer Aspire 3 A315-24P-R7VH Slim Laptop | 15.6...</td>\n",
       "      <td>https://www.amazon.com/A315-24P-R7VH-Display-Q...</td>\n",
       "      <td>495.027283</td>\n",
       "      <td>4.3</td>\n",
       "      <td>1747.000000</td>\n",
       "      <td>Available</td>\n",
       "    </tr>\n",
       "    <tr>\n",
       "      <th>2</th>\n",
       "      <td>https://m.media-amazon.com/images/I/71CDSpds6j...</td>\n",
       "      <td>HP 17 Laptop, 17.3” HD+ Display, 11th Gen Inte...</td>\n",
       "      <td>https://www.amazon.com/HP-Display-i3-1125G4-Pr...</td>\n",
       "      <td>495.027283</td>\n",
       "      <td>4.4</td>\n",
       "      <td>572.000000</td>\n",
       "      <td>Available</td>\n",
       "    </tr>\n",
       "    <tr>\n",
       "      <th>3</th>\n",
       "      <td>https://m.media-amazon.com/images/I/711OHeRmEa...</td>\n",
       "      <td>HP Newest 14\" Ultral Light Laptop for Students...</td>\n",
       "      <td>https://www.amazon.com/HP-Students-Business-Qu...</td>\n",
       "      <td>495.027283</td>\n",
       "      <td>4.2</td>\n",
       "      <td>1806.000000</td>\n",
       "      <td>Available</td>\n",
       "    </tr>\n",
       "    <tr>\n",
       "      <th>4</th>\n",
       "      <td>https://m.media-amazon.com/images/I/815uX7wkOZ...</td>\n",
       "      <td>HP 14 Laptop, Intel Celeron N4020, 4 GB RAM, 6...</td>\n",
       "      <td>https://www.amazon.com/HP-Micro-edge-Microsoft...</td>\n",
       "      <td>186.940002</td>\n",
       "      <td>3.9</td>\n",
       "      <td>1291.000000</td>\n",
       "      <td>Available</td>\n",
       "    </tr>\n",
       "    <tr>\n",
       "      <th>...</th>\n",
       "      <td>...</td>\n",
       "      <td>...</td>\n",
       "      <td>...</td>\n",
       "      <td>...</td>\n",
       "      <td>...</td>\n",
       "      <td>...</td>\n",
       "      <td>...</td>\n",
       "    </tr>\n",
       "    <tr>\n",
       "      <th>420</th>\n",
       "      <td>https://m.media-amazon.com/images/I/717lfaecwB...</td>\n",
       "      <td>HP Pavilion Plus 14 inch Laptop, 2.8K OLED Dis...</td>\n",
       "      <td>https://www.amazon.com/HP-Pavilion-Generation-...</td>\n",
       "      <td>495.027283</td>\n",
       "      <td>4.3</td>\n",
       "      <td>51.000000</td>\n",
       "      <td>Available</td>\n",
       "    </tr>\n",
       "    <tr>\n",
       "      <th>421</th>\n",
       "      <td>https://m.media-amazon.com/images/I/71SVP-CL5Y...</td>\n",
       "      <td>LG gram 14-inch Lightweight Laptop, Intel Evo ...</td>\n",
       "      <td>https://www.amazon.com/sspa/click?ie=UTF8&amp;spc=...</td>\n",
       "      <td>495.027283</td>\n",
       "      <td>4.3</td>\n",
       "      <td>12.000000</td>\n",
       "      <td>Available</td>\n",
       "    </tr>\n",
       "    <tr>\n",
       "      <th>422</th>\n",
       "      <td>https://m.media-amazon.com/images/I/71a7M-Sd1X...</td>\n",
       "      <td>LG gram 15-inch Lightweight Laptop, Intel Evo ...</td>\n",
       "      <td>https://www.amazon.com/sspa/click?ie=UTF8&amp;spc=...</td>\n",
       "      <td>495.027283</td>\n",
       "      <td>4.4</td>\n",
       "      <td>14.000000</td>\n",
       "      <td>Available</td>\n",
       "    </tr>\n",
       "    <tr>\n",
       "      <th>423</th>\n",
       "      <td>https://m.media-amazon.com/images/I/71fRXRI3V7...</td>\n",
       "      <td>LG gram 14-inch 2in1 Lightweight Laptop, Intel...</td>\n",
       "      <td>https://www.amazon.com/sspa/click?ie=UTF8&amp;spc=...</td>\n",
       "      <td>495.027283</td>\n",
       "      <td>4.0</td>\n",
       "      <td>2.000000</td>\n",
       "      <td>Available</td>\n",
       "    </tr>\n",
       "    <tr>\n",
       "      <th>424</th>\n",
       "      <td>https://m.media-amazon.com/images/I/71f7N9q33y...</td>\n",
       "      <td>LG gram 16-inch Lightweight Laptop, Intel Evo ...</td>\n",
       "      <td>https://www.amazon.com/sspa/click?ie=UTF8&amp;spc=...</td>\n",
       "      <td>495.027283</td>\n",
       "      <td>4.4</td>\n",
       "      <td>13.000000</td>\n",
       "      <td>Available</td>\n",
       "    </tr>\n",
       "  </tbody>\n",
       "</table>\n",
       "<p>425 rows × 7 columns</p>\n",
       "</div>"
      ],
      "text/plain": [
       "                                             Image URL  \\\n",
       "0    https://m.media-amazon.com/images/I/71pTP-ll4s...   \n",
       "1    https://m.media-amazon.com/images/I/61gKkYQn6l...   \n",
       "2    https://m.media-amazon.com/images/I/71CDSpds6j...   \n",
       "3    https://m.media-amazon.com/images/I/711OHeRmEa...   \n",
       "4    https://m.media-amazon.com/images/I/815uX7wkOZ...   \n",
       "..                                                 ...   \n",
       "420  https://m.media-amazon.com/images/I/717lfaecwB...   \n",
       "421  https://m.media-amazon.com/images/I/71SVP-CL5Y...   \n",
       "422  https://m.media-amazon.com/images/I/71a7M-Sd1X...   \n",
       "423  https://m.media-amazon.com/images/I/71fRXRI3V7...   \n",
       "424  https://m.media-amazon.com/images/I/71f7N9q33y...   \n",
       "\n",
       "                                                 Title  \\\n",
       "0    HP 15.6\" Portable Laptop (Include 1 Year Micro...   \n",
       "1    Acer Aspire 3 A315-24P-R7VH Slim Laptop | 15.6...   \n",
       "2    HP 17 Laptop, 17.3” HD+ Display, 11th Gen Inte...   \n",
       "3    HP Newest 14\" Ultral Light Laptop for Students...   \n",
       "4    HP 14 Laptop, Intel Celeron N4020, 4 GB RAM, 6...   \n",
       "..                                                 ...   \n",
       "420  HP Pavilion Plus 14 inch Laptop, 2.8K OLED Dis...   \n",
       "421  LG gram 14-inch Lightweight Laptop, Intel Evo ...   \n",
       "422  LG gram 15-inch Lightweight Laptop, Intel Evo ...   \n",
       "423  LG gram 14-inch 2in1 Lightweight Laptop, Intel...   \n",
       "424  LG gram 16-inch Lightweight Laptop, Intel Evo ...   \n",
       "\n",
       "                                                  Link       Price  Rating  \\\n",
       "0    https://www.amazon.com/HP-Portable-Microsoft-Q...  309.989990     4.3   \n",
       "1    https://www.amazon.com/A315-24P-R7VH-Display-Q...  495.027283     4.3   \n",
       "2    https://www.amazon.com/HP-Display-i3-1125G4-Pr...  495.027283     4.4   \n",
       "3    https://www.amazon.com/HP-Students-Business-Qu...  495.027283     4.2   \n",
       "4    https://www.amazon.com/HP-Micro-edge-Microsoft...  186.940002     3.9   \n",
       "..                                                 ...         ...     ...   \n",
       "420  https://www.amazon.com/HP-Pavilion-Generation-...  495.027283     4.3   \n",
       "421  https://www.amazon.com/sspa/click?ie=UTF8&spc=...  495.027283     4.3   \n",
       "422  https://www.amazon.com/sspa/click?ie=UTF8&spc=...  495.027283     4.4   \n",
       "423  https://www.amazon.com/sspa/click?ie=UTF8&spc=...  495.027283     4.0   \n",
       "424  https://www.amazon.com/sspa/click?ie=UTF8&spc=...  495.027283     4.4   \n",
       "\n",
       "     Number of Reviews Availability  \n",
       "0           343.431824    Available  \n",
       "1          1747.000000    Available  \n",
       "2           572.000000    Available  \n",
       "3          1806.000000    Available  \n",
       "4          1291.000000    Available  \n",
       "..                 ...          ...  \n",
       "420          51.000000    Available  \n",
       "421          12.000000    Available  \n",
       "422          14.000000    Available  \n",
       "423           2.000000    Available  \n",
       "424          13.000000    Available  \n",
       "\n",
       "[425 rows x 7 columns]"
      ]
     },
     "execution_count": 20,
     "metadata": {},
     "output_type": "execute_result"
    }
   ],
   "source": [
    "df2['Price'].fillna(df2['Price'].mean(), inplace=True)\n",
    "df2['Rating'].fillna(df2['Rating'].mean(), inplace=True)\n",
    "df2['Number of Reviews'].fillna(df2['Number of Reviews'].mean(), inplace=True)\n",
    "df2"
   ]
  },
  {
   "cell_type": "code",
   "execution_count": 21,
   "id": "7c1609d5-add3-47de-b637-7bebdbd6e992",
   "metadata": {},
   "outputs": [
    {
     "data": {
      "text/plain": [
       "Image URL            0\n",
       "Title                0\n",
       "Link                 0\n",
       "Price                0\n",
       "Rating               0\n",
       "Number of Reviews    0\n",
       "Availability         0\n",
       "dtype: int64"
      ]
     },
     "execution_count": 21,
     "metadata": {},
     "output_type": "execute_result"
    }
   ],
   "source": [
    "#checking for null values\n",
    "df2.isnull().sum()"
   ]
  },
  {
   "cell_type": "markdown",
   "id": "0f64938e-bdda-49f0-9775-2bbd2809663b",
   "metadata": {},
   "source": [
    "# __________________________________________________________________"
   ]
  },
  {
   "cell_type": "markdown",
   "id": "70a59bfa-2f7e-4d62-8cb5-cf79118896f8",
   "metadata": {},
   "source": [
    "## • Task 2.2 \n",
    "### • Transform the Data:"
   ]
  },
  {
   "cell_type": "code",
   "execution_count": 22,
   "id": "f6a1d0fb-052f-41f7-8b76-cd188640ff5d",
   "metadata": {},
   "outputs": [
    {
     "data": {
      "text/html": [
       "<div>\n",
       "<style scoped>\n",
       "    .dataframe tbody tr th:only-of-type {\n",
       "        vertical-align: middle;\n",
       "    }\n",
       "\n",
       "    .dataframe tbody tr th {\n",
       "        vertical-align: top;\n",
       "    }\n",
       "\n",
       "    .dataframe thead th {\n",
       "        text-align: right;\n",
       "    }\n",
       "</style>\n",
       "<table border=\"1\" class=\"dataframe\">\n",
       "  <thead>\n",
       "    <tr style=\"text-align: right;\">\n",
       "      <th></th>\n",
       "      <th>Image URL</th>\n",
       "      <th>Title</th>\n",
       "      <th>Link</th>\n",
       "      <th>Price</th>\n",
       "      <th>Rating</th>\n",
       "      <th>Number of Reviews</th>\n",
       "      <th>Availability</th>\n",
       "      <th>Standardized Price</th>\n",
       "      <th>Encoded Availability</th>\n",
       "      <th>Has Touchscreen</th>\n",
       "    </tr>\n",
       "  </thead>\n",
       "  <tbody>\n",
       "    <tr>\n",
       "      <th>0</th>\n",
       "      <td>https://m.media-amazon.com/images/I/71pTP-ll4s...</td>\n",
       "      <td>HP 15.6\" Portable Laptop (Include 1 Year Micro...</td>\n",
       "      <td>https://www.amazon.com/HP-Portable-Microsoft-Q...</td>\n",
       "      <td>309.989990</td>\n",
       "      <td>4.3</td>\n",
       "      <td>343.431824</td>\n",
       "      <td>Available</td>\n",
       "      <td>0.067546</td>\n",
       "      <td>0</td>\n",
       "      <td>False</td>\n",
       "    </tr>\n",
       "    <tr>\n",
       "      <th>1</th>\n",
       "      <td>https://m.media-amazon.com/images/I/61gKkYQn6l...</td>\n",
       "      <td>Acer Aspire 3 A315-24P-R7VH Slim Laptop | 15.6...</td>\n",
       "      <td>https://www.amazon.com/A315-24P-R7VH-Display-Q...</td>\n",
       "      <td>495.027283</td>\n",
       "      <td>4.3</td>\n",
       "      <td>1747.000000</td>\n",
       "      <td>Available</td>\n",
       "      <td>0.116368</td>\n",
       "      <td>0</td>\n",
       "      <td>False</td>\n",
       "    </tr>\n",
       "    <tr>\n",
       "      <th>2</th>\n",
       "      <td>https://m.media-amazon.com/images/I/71CDSpds6j...</td>\n",
       "      <td>HP 17 Laptop, 17.3” HD+ Display, 11th Gen Inte...</td>\n",
       "      <td>https://www.amazon.com/HP-Display-i3-1125G4-Pr...</td>\n",
       "      <td>495.027283</td>\n",
       "      <td>4.4</td>\n",
       "      <td>572.000000</td>\n",
       "      <td>Available</td>\n",
       "      <td>0.116368</td>\n",
       "      <td>0</td>\n",
       "      <td>False</td>\n",
       "    </tr>\n",
       "    <tr>\n",
       "      <th>3</th>\n",
       "      <td>https://m.media-amazon.com/images/I/711OHeRmEa...</td>\n",
       "      <td>HP Newest 14\" Ultral Light Laptop for Students...</td>\n",
       "      <td>https://www.amazon.com/HP-Students-Business-Qu...</td>\n",
       "      <td>495.027283</td>\n",
       "      <td>4.2</td>\n",
       "      <td>1806.000000</td>\n",
       "      <td>Available</td>\n",
       "      <td>0.116368</td>\n",
       "      <td>0</td>\n",
       "      <td>False</td>\n",
       "    </tr>\n",
       "    <tr>\n",
       "      <th>4</th>\n",
       "      <td>https://m.media-amazon.com/images/I/815uX7wkOZ...</td>\n",
       "      <td>HP 14 Laptop, Intel Celeron N4020, 4 GB RAM, 6...</td>\n",
       "      <td>https://www.amazon.com/HP-Micro-edge-Microsoft...</td>\n",
       "      <td>186.940002</td>\n",
       "      <td>3.9</td>\n",
       "      <td>1291.000000</td>\n",
       "      <td>Available</td>\n",
       "      <td>0.035079</td>\n",
       "      <td>0</td>\n",
       "      <td>False</td>\n",
       "    </tr>\n",
       "  </tbody>\n",
       "</table>\n",
       "</div>"
      ],
      "text/plain": [
       "                                           Image URL  \\\n",
       "0  https://m.media-amazon.com/images/I/71pTP-ll4s...   \n",
       "1  https://m.media-amazon.com/images/I/61gKkYQn6l...   \n",
       "2  https://m.media-amazon.com/images/I/71CDSpds6j...   \n",
       "3  https://m.media-amazon.com/images/I/711OHeRmEa...   \n",
       "4  https://m.media-amazon.com/images/I/815uX7wkOZ...   \n",
       "\n",
       "                                               Title  \\\n",
       "0  HP 15.6\" Portable Laptop (Include 1 Year Micro...   \n",
       "1  Acer Aspire 3 A315-24P-R7VH Slim Laptop | 15.6...   \n",
       "2  HP 17 Laptop, 17.3” HD+ Display, 11th Gen Inte...   \n",
       "3  HP Newest 14\" Ultral Light Laptop for Students...   \n",
       "4  HP 14 Laptop, Intel Celeron N4020, 4 GB RAM, 6...   \n",
       "\n",
       "                                                Link       Price  Rating  \\\n",
       "0  https://www.amazon.com/HP-Portable-Microsoft-Q...  309.989990     4.3   \n",
       "1  https://www.amazon.com/A315-24P-R7VH-Display-Q...  495.027283     4.3   \n",
       "2  https://www.amazon.com/HP-Display-i3-1125G4-Pr...  495.027283     4.4   \n",
       "3  https://www.amazon.com/HP-Students-Business-Qu...  495.027283     4.2   \n",
       "4  https://www.amazon.com/HP-Micro-edge-Microsoft...  186.940002     3.9   \n",
       "\n",
       "   Number of Reviews Availability  Standardized Price  Encoded Availability  \\\n",
       "0         343.431824    Available            0.067546                     0   \n",
       "1        1747.000000    Available            0.116368                     0   \n",
       "2         572.000000    Available            0.116368                     0   \n",
       "3        1806.000000    Available            0.116368                     0   \n",
       "4        1291.000000    Available            0.035079                     0   \n",
       "\n",
       "   Has Touchscreen  \n",
       "0            False  \n",
       "1            False  \n",
       "2            False  \n",
       "3            False  \n",
       "4            False  "
      ]
     },
     "execution_count": 22,
     "metadata": {},
     "output_type": "execute_result"
    }
   ],
   "source": [
    "#Task 1: Standardize Prices\n",
    "scaler = MinMaxScaler()\n",
    "df2['Standardized Price'] = scaler.fit_transform(df2[['Price']])\n",
    "\n",
    "#Task 2: Encode the 'Availability' Column\n",
    "encoder = LabelEncoder()\n",
    "df2['Encoded Availability'] = encoder.fit_transform(df2['Availability'])\n",
    "\n",
    "#Task 3: Extract Features from 'Title'\n",
    "#Here we will extract a simple feature - checking for the presence of 'Touchscreen'\n",
    "df2['Has Touchscreen'] = df2['Title'].apply(lambda x: 'Touchscreen' in x)\n",
    "\n",
    "#saving the transformed dataset\n",
    "df2.to_excel('transformed_data.xlsx')\n",
    "\n",
    "df2.head()"
   ]
  },
  {
   "cell_type": "markdown",
   "id": "ef770a0f-3e83-4467-8106-cad36cdce0bd",
   "metadata": {},
   "source": [
    "# __________________________________________________________________"
   ]
  },
  {
   "cell_type": "markdown",
   "id": "1e79b01c-b8e8-4e14-9817-a43daba66b61",
   "metadata": {},
   "source": [
    "## • Task 2.3\n",
    "### • Integration:"
   ]
  },
  {
   "cell_type": "code",
   "execution_count": 23,
   "id": "d9dd4139-beb6-4204-89f4-30053c6fa8e0",
   "metadata": {},
   "outputs": [
    {
     "data": {
      "text/plain": [
       "Image URL                object\n",
       "Title                    object\n",
       "Link                     object\n",
       "Price                   float32\n",
       "Rating                  float32\n",
       "Number of Reviews       float32\n",
       "Availability             object\n",
       "Standardized Price      float32\n",
       "Encoded Availability      int32\n",
       "Has Touchscreen            bool\n",
       "dtype: object"
      ]
     },
     "execution_count": 23,
     "metadata": {},
     "output_type": "execute_result"
    }
   ],
   "source": [
    "integrated_df = df2.copy()\n",
    "\n",
    "#saving it to a csv format\n",
    "integrated_df.to_csv('integrated_dataset.csv', index=False)\n",
    "integrated_df.dtypes"
   ]
  },
  {
   "cell_type": "markdown",
   "id": "bf9c78ae-6ebf-4b7d-8e1d-7cfe24330f82",
   "metadata": {},
   "source": [
    "#### ○ Preparing the data to load it to a Database successfully:"
   ]
  },
  {
   "cell_type": "code",
   "execution_count": 24,
   "id": "f0d73609-95b8-48a1-bef9-78b9a6978393",
   "metadata": {},
   "outputs": [],
   "source": [
    "# Defining data types based on DataFrame columns to suit with Database\n",
    "sql_dtypes = {\n",
    "    'Image URL': Text(),\n",
    "    'Title': Text(),\n",
    "    'Link': Text(),\n",
    "    'Price':Float(),\n",
    "    'Rating':Float(),\n",
    "    'Number of Reviews':Float(),\n",
    "    'Availability':Text(),\n",
    "    'Standardized Price':Float(),\n",
    "    'Encoded Availability':Integer(),\n",
    "    'Has Touchscreen':Integer()\n",
    "}"
   ]
  },
  {
   "cell_type": "markdown",
   "id": "41c42ae8-7531-4fd1-a30f-23f607aec300",
   "metadata": {},
   "source": [
    "# __________________________________________________________________"
   ]
  },
  {
   "cell_type": "markdown",
   "id": "ba651c4f-cec1-46dd-8bbd-3234c7b44990",
   "metadata": {},
   "source": [
    "# • Task 3: Loading Data and Executing Queries in MySQL Database Server"
   ]
  },
  {
   "cell_type": "markdown",
   "id": "151dd8c5-4993-4182-8dbc-660ee1e277df",
   "metadata": {},
   "source": [
    "### • Task 3.B: Connect to the MySQL Database"
   ]
  },
  {
   "cell_type": "code",
   "execution_count": 25,
   "id": "f814d09e-7e2a-455d-91a6-3f9fac6cf63e",
   "metadata": {},
   "outputs": [
    {
     "name": "stdout",
     "output_type": "stream",
     "text": [
      "Connected to MySQL database successfully!\n"
     ]
    }
   ],
   "source": [
    "# Database Information\n",
    "db_user = 'root'\n",
    "db_password = 'bkshbm1234#_'\n",
    "#db_password = 'Bkshbm1234#_'\n",
    "db_host = 'localhost'\n",
    "db_port = '3306'\n",
    "db_name = 'mysql'\n",
    "\n",
    "#MySQL connection string\n",
    "connection_string = f'mysql+mysqlconnector://{db_user}:{db_password}@{db_host}:{db_port}/{db_name}'\n",
    "\n",
    "#Create the engine\n",
    "engine = create_engine(connection_string)\n",
    "\n",
    "#Test the connection\n",
    "try:\n",
    "    with engine.connect() as conn:\n",
    "        print(\"Connected to MySQL database successfully!\")\n",
    "except Exception as e:\n",
    "    print(f\"Failed to connect to MySQL database: {e}\")"
   ]
  },
  {
   "cell_type": "markdown",
   "id": "56b4e61c-093b-42ba-bcfb-13ee8a3eb50c",
   "metadata": {},
   "source": [
    "### • Task 3.C: Create a Database using Python Code"
   ]
  },
  {
   "cell_type": "code",
   "execution_count": 26,
   "id": "4d01eb72-d58f-44d4-9c66-a44cb5037e29",
   "metadata": {},
   "outputs": [],
   "source": [
    "#Create a new database\n",
    "new_db_name = 'new_database'"
   ]
  },
  {
   "cell_type": "code",
   "execution_count": 27,
   "id": "65ad330e-931d-423c-8b4c-cdffa9b05f18",
   "metadata": {},
   "outputs": [
    {
     "name": "stdout",
     "output_type": "stream",
     "text": [
      "Failed to create database: (mysql.connector.errors.DatabaseError) 1007 (HY000): Can't create database 'new_database'; database exists\n",
      "[SQL: CREATE DATABASE new_database;]\n",
      "(Background on this error at: https://sqlalche.me/e/14/4xp6)\n"
     ]
    }
   ],
   "source": [
    "try:\n",
    "    with engine.connect() as conn:\n",
    "        conn.execute(f\"CREATE DATABASE {new_db_name};\")\n",
    "        print(f\"Database '{new_db_name}' created successfully!\")\n",
    "except Exception as e:\n",
    "    print(f\"Failed to create database: {e}\")"
   ]
  },
  {
   "cell_type": "markdown",
   "id": "4246aa3d-47bf-491d-93ee-97fa791da6b2",
   "metadata": {},
   "source": [
    "### • Task 3.D: Load the Integrated Dataset into the Database"
   ]
  },
  {
   "cell_type": "code",
   "execution_count": 28,
   "id": "770c3120-9c9f-48ef-93e6-636df40f9677",
   "metadata": {},
   "outputs": [
    {
     "name": "stdout",
     "output_type": "stream",
     "text": [
      "Data loaded into MySQL database successfully!\n"
     ]
    }
   ],
   "source": [
    "#Load data into the database, explicitly using the database\n",
    "try:\n",
    "    with engine.connect() as conn:\n",
    "        conn.execute(f\"USE {new_db_name};\")  # Ensure we are in the right database\n",
    "        integrated_df.to_sql('new_database', con=engine, index=False, if_exists='replace', dtype=sql_dtypes)\n",
    "        print(\"Data loaded into MySQL database successfully!\")\n",
    "except Exception as e:\n",
    "    print(f\"Failed to load data into MySQL database: {e}\")"
   ]
  },
  {
   "cell_type": "markdown",
   "id": "c31dfea0-65da-4c65-9add-c391d161d19d",
   "metadata": {},
   "source": [
    "### • Task.E: Execute at Least 3 Queries of Your Choice\n",
    "#### ○ Querie 1:"
   ]
  },
  {
   "cell_type": "code",
   "execution_count": 29,
   "id": "93305100-d348-4379-812b-142daf447fa3",
   "metadata": {},
   "outputs": [
    {
     "name": "stdout",
     "output_type": "stream",
     "text": [
      "Image URL\n",
      "Title\n",
      "Link\n",
      "Price\n",
      "Rating\n",
      "Number of Reviews\n",
      "Availability\n",
      "Standardized Price\n",
      "Encoded Availability\n",
      "Has Touchscreen\n"
     ]
    }
   ],
   "source": [
    "#Execute the SQL query to retrieve all column names\n",
    "Querie1 = f\"SHOW COLUMNS FROM {new_db_name};\"\n",
    "result1 = engine.execute(Querie1)\n",
    "\n",
    "#Fetch and print the result\n",
    "for column in result1:\n",
    "    print(column[0])  "
   ]
  },
  {
   "cell_type": "markdown",
   "id": "10e386ae-ef08-49f3-86ef-5eeabd78521f",
   "metadata": {},
   "source": [
    "#### ○ Querie 2:"
   ]
  },
  {
   "cell_type": "code",
   "execution_count": 65,
   "id": "104c4232-d57e-4479-8579-f1b1a9fbf02e",
   "metadata": {},
   "outputs": [
    {
     "ename": "ProgrammingError",
     "evalue": "(mysql.connector.errors.ProgrammingError) 1146 (42S02): Table 'new_database.new_database' doesn't exist\n[SQL: SELECT * FROM new_database LIMIT 10;]\n(Background on this error at: https://sqlalche.me/e/14/f405)",
     "output_type": "error",
     "traceback": [
      "\u001b[1;31m---------------------------------------------------------------------------\u001b[0m",
      "\u001b[1;31mMySQLInterfaceError\u001b[0m                       Traceback (most recent call last)",
      "\u001b[1;32m~\\anaconda3\\lib\\site-packages\\mysql\\connector\\connection_cext.py\u001b[0m in \u001b[0;36mcmd_query\u001b[1;34m(self, query, raw, buffered, raw_as_string)\u001b[0m\n\u001b[0;32m    610\u001b[0m                 \u001b[0mquery\u001b[0m \u001b[1;33m=\u001b[0m \u001b[0mquery\u001b[0m\u001b[1;33m.\u001b[0m\u001b[0mencode\u001b[0m\u001b[1;33m(\u001b[0m\u001b[1;34m\"utf-8\"\u001b[0m\u001b[1;33m)\u001b[0m\u001b[1;33m\u001b[0m\u001b[1;33m\u001b[0m\u001b[0m\n\u001b[1;32m--> 611\u001b[1;33m             self._cmysql.query(\n\u001b[0m\u001b[0;32m    612\u001b[0m                 \u001b[0mquery\u001b[0m\u001b[1;33m,\u001b[0m\u001b[1;33m\u001b[0m\u001b[1;33m\u001b[0m\u001b[0m\n",
      "\u001b[1;31mMySQLInterfaceError\u001b[0m: Table 'new_database.new_database' doesn't exist",
      "\nThe above exception was the direct cause of the following exception:\n",
      "\u001b[1;31mProgrammingError\u001b[0m                          Traceback (most recent call last)",
      "\u001b[1;32m~\\anaconda3\\lib\\site-packages\\sqlalchemy\\engine\\base.py\u001b[0m in \u001b[0;36m_execute_context\u001b[1;34m(self, dialect, constructor, statement, parameters, execution_options, *args, **kw)\u001b[0m\n\u001b[0;32m   1770\u001b[0m                 \u001b[1;32mif\u001b[0m \u001b[1;32mnot\u001b[0m \u001b[0mevt_handled\u001b[0m\u001b[1;33m:\u001b[0m\u001b[1;33m\u001b[0m\u001b[1;33m\u001b[0m\u001b[0m\n\u001b[1;32m-> 1771\u001b[1;33m                     self.dialect.do_execute(\n\u001b[0m\u001b[0;32m   1772\u001b[0m                         \u001b[0mcursor\u001b[0m\u001b[1;33m,\u001b[0m \u001b[0mstatement\u001b[0m\u001b[1;33m,\u001b[0m \u001b[0mparameters\u001b[0m\u001b[1;33m,\u001b[0m \u001b[0mcontext\u001b[0m\u001b[1;33m\u001b[0m\u001b[1;33m\u001b[0m\u001b[0m\n",
      "\u001b[1;32m~\\anaconda3\\lib\\site-packages\\sqlalchemy\\engine\\default.py\u001b[0m in \u001b[0;36mdo_execute\u001b[1;34m(self, cursor, statement, parameters, context)\u001b[0m\n\u001b[0;32m    716\u001b[0m     \u001b[1;32mdef\u001b[0m \u001b[0mdo_execute\u001b[0m\u001b[1;33m(\u001b[0m\u001b[0mself\u001b[0m\u001b[1;33m,\u001b[0m \u001b[0mcursor\u001b[0m\u001b[1;33m,\u001b[0m \u001b[0mstatement\u001b[0m\u001b[1;33m,\u001b[0m \u001b[0mparameters\u001b[0m\u001b[1;33m,\u001b[0m \u001b[0mcontext\u001b[0m\u001b[1;33m=\u001b[0m\u001b[1;32mNone\u001b[0m\u001b[1;33m)\u001b[0m\u001b[1;33m:\u001b[0m\u001b[1;33m\u001b[0m\u001b[1;33m\u001b[0m\u001b[0m\n\u001b[1;32m--> 717\u001b[1;33m         \u001b[0mcursor\u001b[0m\u001b[1;33m.\u001b[0m\u001b[0mexecute\u001b[0m\u001b[1;33m(\u001b[0m\u001b[0mstatement\u001b[0m\u001b[1;33m,\u001b[0m \u001b[0mparameters\u001b[0m\u001b[1;33m)\u001b[0m\u001b[1;33m\u001b[0m\u001b[1;33m\u001b[0m\u001b[0m\n\u001b[0m\u001b[0;32m    718\u001b[0m \u001b[1;33m\u001b[0m\u001b[0m\n",
      "\u001b[1;32m~\\anaconda3\\lib\\site-packages\\mysql\\connector\\cursor_cext.py\u001b[0m in \u001b[0;36mexecute\u001b[1;34m(self, operation, params, multi)\u001b[0m\n\u001b[0;32m    329\u001b[0m         \u001b[1;32mtry\u001b[0m\u001b[1;33m:\u001b[0m\u001b[1;33m\u001b[0m\u001b[1;33m\u001b[0m\u001b[0m\n\u001b[1;32m--> 330\u001b[1;33m             result = self._cnx.cmd_query(\n\u001b[0m\u001b[0;32m    331\u001b[0m                 \u001b[0mstmt\u001b[0m\u001b[1;33m,\u001b[0m\u001b[1;33m\u001b[0m\u001b[1;33m\u001b[0m\u001b[0m\n",
      "\u001b[1;32m~\\anaconda3\\lib\\site-packages\\mysql\\connector\\connection_cext.py\u001b[0m in \u001b[0;36mcmd_query\u001b[1;34m(self, query, raw, buffered, raw_as_string)\u001b[0m\n\u001b[0;32m    618\u001b[0m         \u001b[1;32mexcept\u001b[0m \u001b[0mMySQLInterfaceError\u001b[0m \u001b[1;32mas\u001b[0m \u001b[0merr\u001b[0m\u001b[1;33m:\u001b[0m\u001b[1;33m\u001b[0m\u001b[1;33m\u001b[0m\u001b[0m\n\u001b[1;32m--> 619\u001b[1;33m             raise get_mysql_exception(\n\u001b[0m\u001b[0;32m    620\u001b[0m                 \u001b[0merr\u001b[0m\u001b[1;33m.\u001b[0m\u001b[0merrno\u001b[0m\u001b[1;33m,\u001b[0m \u001b[0mmsg\u001b[0m\u001b[1;33m=\u001b[0m\u001b[0merr\u001b[0m\u001b[1;33m.\u001b[0m\u001b[0mmsg\u001b[0m\u001b[1;33m,\u001b[0m \u001b[0msqlstate\u001b[0m\u001b[1;33m=\u001b[0m\u001b[0merr\u001b[0m\u001b[1;33m.\u001b[0m\u001b[0msqlstate\u001b[0m\u001b[1;33m\u001b[0m\u001b[1;33m\u001b[0m\u001b[0m\n",
      "\u001b[1;31mProgrammingError\u001b[0m: 1146 (42S02): Table 'new_database.new_database' doesn't exist",
      "\nThe above exception was the direct cause of the following exception:\n",
      "\u001b[1;31mProgrammingError\u001b[0m                          Traceback (most recent call last)",
      "\u001b[1;32m~\\AppData\\Local\\Temp/ipykernel_16128/2749363909.py\u001b[0m in \u001b[0;36m<module>\u001b[1;34m\u001b[0m\n\u001b[0;32m      1\u001b[0m \u001b[1;31m#Execute the SQL query to retrieve the top 10 records from the table\u001b[0m\u001b[1;33m\u001b[0m\u001b[1;33m\u001b[0m\u001b[0m\n\u001b[0;32m      2\u001b[0m \u001b[0mQuery2\u001b[0m \u001b[1;33m=\u001b[0m \u001b[1;34mf\"SELECT * FROM {new_db_name} LIMIT 10;\"\u001b[0m\u001b[1;33m\u001b[0m\u001b[1;33m\u001b[0m\u001b[0m\n\u001b[1;32m----> 3\u001b[1;33m \u001b[0mresult2\u001b[0m \u001b[1;33m=\u001b[0m \u001b[0mengine\u001b[0m\u001b[1;33m.\u001b[0m\u001b[0mexecute\u001b[0m\u001b[1;33m(\u001b[0m\u001b[0mQuery2\u001b[0m\u001b[1;33m)\u001b[0m\u001b[1;33m\u001b[0m\u001b[1;33m\u001b[0m\u001b[0m\n\u001b[0m\u001b[0;32m      4\u001b[0m \u001b[1;33m\u001b[0m\u001b[0m\n\u001b[0;32m      5\u001b[0m \u001b[1;31m#Fetch the result and print it\u001b[0m\u001b[1;33m\u001b[0m\u001b[1;33m\u001b[0m\u001b[0m\n",
      "\u001b[1;32m<string>\u001b[0m in \u001b[0;36mexecute\u001b[1;34m(self, statement, *multiparams, **params)\u001b[0m\n",
      "\u001b[1;32m~\\anaconda3\\lib\\site-packages\\sqlalchemy\\util\\deprecations.py\u001b[0m in \u001b[0;36mwarned\u001b[1;34m(fn, *args, **kwargs)\u001b[0m\n\u001b[0;32m    388\u001b[0m         \u001b[1;32mif\u001b[0m \u001b[1;32mnot\u001b[0m \u001b[0mskip_warning\u001b[0m\u001b[1;33m:\u001b[0m\u001b[1;33m\u001b[0m\u001b[1;33m\u001b[0m\u001b[0m\n\u001b[0;32m    389\u001b[0m             \u001b[0m_warn_with_version\u001b[0m\u001b[1;33m(\u001b[0m\u001b[0mmessage\u001b[0m\u001b[1;33m,\u001b[0m \u001b[0mversion\u001b[0m\u001b[1;33m,\u001b[0m \u001b[0mwtype\u001b[0m\u001b[1;33m,\u001b[0m \u001b[0mstacklevel\u001b[0m\u001b[1;33m=\u001b[0m\u001b[1;36m3\u001b[0m\u001b[1;33m)\u001b[0m\u001b[1;33m\u001b[0m\u001b[1;33m\u001b[0m\u001b[0m\n\u001b[1;32m--> 390\u001b[1;33m         \u001b[1;32mreturn\u001b[0m \u001b[0mfn\u001b[0m\u001b[1;33m(\u001b[0m\u001b[1;33m*\u001b[0m\u001b[0margs\u001b[0m\u001b[1;33m,\u001b[0m \u001b[1;33m**\u001b[0m\u001b[0mkwargs\u001b[0m\u001b[1;33m)\u001b[0m\u001b[1;33m\u001b[0m\u001b[1;33m\u001b[0m\u001b[0m\n\u001b[0m\u001b[0;32m    391\u001b[0m \u001b[1;33m\u001b[0m\u001b[0m\n\u001b[0;32m    392\u001b[0m     \u001b[0mdoc\u001b[0m \u001b[1;33m=\u001b[0m \u001b[0mfunc\u001b[0m\u001b[1;33m.\u001b[0m\u001b[0m__doc__\u001b[0m \u001b[1;32mis\u001b[0m \u001b[1;32mnot\u001b[0m \u001b[1;32mNone\u001b[0m \u001b[1;32mand\u001b[0m \u001b[0mfunc\u001b[0m\u001b[1;33m.\u001b[0m\u001b[0m__doc__\u001b[0m \u001b[1;32mor\u001b[0m \u001b[1;34m\"\"\u001b[0m\u001b[1;33m\u001b[0m\u001b[1;33m\u001b[0m\u001b[0m\n",
      "\u001b[1;32m~\\anaconda3\\lib\\site-packages\\sqlalchemy\\engine\\base.py\u001b[0m in \u001b[0;36mexecute\u001b[1;34m(self, statement, *multiparams, **params)\u001b[0m\n\u001b[0;32m   3106\u001b[0m         \"\"\"\n\u001b[0;32m   3107\u001b[0m         \u001b[0mconnection\u001b[0m \u001b[1;33m=\u001b[0m \u001b[0mself\u001b[0m\u001b[1;33m.\u001b[0m\u001b[0mconnect\u001b[0m\u001b[1;33m(\u001b[0m\u001b[0mclose_with_result\u001b[0m\u001b[1;33m=\u001b[0m\u001b[1;32mTrue\u001b[0m\u001b[1;33m)\u001b[0m\u001b[1;33m\u001b[0m\u001b[1;33m\u001b[0m\u001b[0m\n\u001b[1;32m-> 3108\u001b[1;33m         \u001b[1;32mreturn\u001b[0m \u001b[0mconnection\u001b[0m\u001b[1;33m.\u001b[0m\u001b[0mexecute\u001b[0m\u001b[1;33m(\u001b[0m\u001b[0mstatement\u001b[0m\u001b[1;33m,\u001b[0m \u001b[1;33m*\u001b[0m\u001b[0mmultiparams\u001b[0m\u001b[1;33m,\u001b[0m \u001b[1;33m**\u001b[0m\u001b[0mparams\u001b[0m\u001b[1;33m)\u001b[0m\u001b[1;33m\u001b[0m\u001b[1;33m\u001b[0m\u001b[0m\n\u001b[0m\u001b[0;32m   3109\u001b[0m \u001b[1;33m\u001b[0m\u001b[0m\n\u001b[0;32m   3110\u001b[0m     @util.deprecated_20(\n",
      "\u001b[1;32m~\\anaconda3\\lib\\site-packages\\sqlalchemy\\engine\\base.py\u001b[0m in \u001b[0;36mexecute\u001b[1;34m(self, statement, *multiparams, **params)\u001b[0m\n\u001b[0;32m   1246\u001b[0m             )\n\u001b[0;32m   1247\u001b[0m \u001b[1;33m\u001b[0m\u001b[0m\n\u001b[1;32m-> 1248\u001b[1;33m             return self._exec_driver_sql(\n\u001b[0m\u001b[0;32m   1249\u001b[0m                 \u001b[0mstatement\u001b[0m\u001b[1;33m,\u001b[0m\u001b[1;33m\u001b[0m\u001b[1;33m\u001b[0m\u001b[0m\n\u001b[0;32m   1250\u001b[0m                 \u001b[0mmultiparams\u001b[0m\u001b[1;33m,\u001b[0m\u001b[1;33m\u001b[0m\u001b[1;33m\u001b[0m\u001b[0m\n",
      "\u001b[1;32m~\\anaconda3\\lib\\site-packages\\sqlalchemy\\engine\\base.py\u001b[0m in \u001b[0;36m_exec_driver_sql\u001b[1;34m(self, statement, multiparams, params, execution_options, future)\u001b[0m\n\u001b[0;32m   1545\u001b[0m \u001b[1;33m\u001b[0m\u001b[0m\n\u001b[0;32m   1546\u001b[0m         \u001b[0mdialect\u001b[0m \u001b[1;33m=\u001b[0m \u001b[0mself\u001b[0m\u001b[1;33m.\u001b[0m\u001b[0mdialect\u001b[0m\u001b[1;33m\u001b[0m\u001b[1;33m\u001b[0m\u001b[0m\n\u001b[1;32m-> 1547\u001b[1;33m         ret = self._execute_context(\n\u001b[0m\u001b[0;32m   1548\u001b[0m             \u001b[0mdialect\u001b[0m\u001b[1;33m,\u001b[0m\u001b[1;33m\u001b[0m\u001b[1;33m\u001b[0m\u001b[0m\n\u001b[0;32m   1549\u001b[0m             \u001b[0mdialect\u001b[0m\u001b[1;33m.\u001b[0m\u001b[0mexecution_ctx_cls\u001b[0m\u001b[1;33m.\u001b[0m\u001b[0m_init_statement\u001b[0m\u001b[1;33m,\u001b[0m\u001b[1;33m\u001b[0m\u001b[1;33m\u001b[0m\u001b[0m\n",
      "\u001b[1;32m~\\anaconda3\\lib\\site-packages\\sqlalchemy\\engine\\base.py\u001b[0m in \u001b[0;36m_execute_context\u001b[1;34m(self, dialect, constructor, statement, parameters, execution_options, *args, **kw)\u001b[0m\n\u001b[0;32m   1812\u001b[0m \u001b[1;33m\u001b[0m\u001b[0m\n\u001b[0;32m   1813\u001b[0m         \u001b[1;32mexcept\u001b[0m \u001b[0mBaseException\u001b[0m \u001b[1;32mas\u001b[0m \u001b[0me\u001b[0m\u001b[1;33m:\u001b[0m\u001b[1;33m\u001b[0m\u001b[1;33m\u001b[0m\u001b[0m\n\u001b[1;32m-> 1814\u001b[1;33m             self._handle_dbapi_exception(\n\u001b[0m\u001b[0;32m   1815\u001b[0m                 \u001b[0me\u001b[0m\u001b[1;33m,\u001b[0m \u001b[0mstatement\u001b[0m\u001b[1;33m,\u001b[0m \u001b[0mparameters\u001b[0m\u001b[1;33m,\u001b[0m \u001b[0mcursor\u001b[0m\u001b[1;33m,\u001b[0m \u001b[0mcontext\u001b[0m\u001b[1;33m\u001b[0m\u001b[1;33m\u001b[0m\u001b[0m\n\u001b[0;32m   1816\u001b[0m             )\n",
      "\u001b[1;32m~\\anaconda3\\lib\\site-packages\\sqlalchemy\\engine\\base.py\u001b[0m in \u001b[0;36m_handle_dbapi_exception\u001b[1;34m(self, e, statement, parameters, cursor, context)\u001b[0m\n\u001b[0;32m   1993\u001b[0m                 \u001b[0mutil\u001b[0m\u001b[1;33m.\u001b[0m\u001b[0mraise_\u001b[0m\u001b[1;33m(\u001b[0m\u001b[0mnewraise\u001b[0m\u001b[1;33m,\u001b[0m \u001b[0mwith_traceback\u001b[0m\u001b[1;33m=\u001b[0m\u001b[0mexc_info\u001b[0m\u001b[1;33m[\u001b[0m\u001b[1;36m2\u001b[0m\u001b[1;33m]\u001b[0m\u001b[1;33m,\u001b[0m \u001b[0mfrom_\u001b[0m\u001b[1;33m=\u001b[0m\u001b[0me\u001b[0m\u001b[1;33m)\u001b[0m\u001b[1;33m\u001b[0m\u001b[1;33m\u001b[0m\u001b[0m\n\u001b[0;32m   1994\u001b[0m             \u001b[1;32melif\u001b[0m \u001b[0mshould_wrap\u001b[0m\u001b[1;33m:\u001b[0m\u001b[1;33m\u001b[0m\u001b[1;33m\u001b[0m\u001b[0m\n\u001b[1;32m-> 1995\u001b[1;33m                 util.raise_(\n\u001b[0m\u001b[0;32m   1996\u001b[0m                     \u001b[0msqlalchemy_exception\u001b[0m\u001b[1;33m,\u001b[0m \u001b[0mwith_traceback\u001b[0m\u001b[1;33m=\u001b[0m\u001b[0mexc_info\u001b[0m\u001b[1;33m[\u001b[0m\u001b[1;36m2\u001b[0m\u001b[1;33m]\u001b[0m\u001b[1;33m,\u001b[0m \u001b[0mfrom_\u001b[0m\u001b[1;33m=\u001b[0m\u001b[0me\u001b[0m\u001b[1;33m\u001b[0m\u001b[1;33m\u001b[0m\u001b[0m\n\u001b[0;32m   1997\u001b[0m                 )\n",
      "\u001b[1;32m~\\anaconda3\\lib\\site-packages\\sqlalchemy\\util\\compat.py\u001b[0m in \u001b[0;36mraise_\u001b[1;34m(***failed resolving arguments***)\u001b[0m\n\u001b[0;32m    205\u001b[0m \u001b[1;33m\u001b[0m\u001b[0m\n\u001b[0;32m    206\u001b[0m         \u001b[1;32mtry\u001b[0m\u001b[1;33m:\u001b[0m\u001b[1;33m\u001b[0m\u001b[1;33m\u001b[0m\u001b[0m\n\u001b[1;32m--> 207\u001b[1;33m             \u001b[1;32mraise\u001b[0m \u001b[0mexception\u001b[0m\u001b[1;33m\u001b[0m\u001b[1;33m\u001b[0m\u001b[0m\n\u001b[0m\u001b[0;32m    208\u001b[0m         \u001b[1;32mfinally\u001b[0m\u001b[1;33m:\u001b[0m\u001b[1;33m\u001b[0m\u001b[1;33m\u001b[0m\u001b[0m\n\u001b[0;32m    209\u001b[0m             \u001b[1;31m# credit to\u001b[0m\u001b[1;33m\u001b[0m\u001b[1;33m\u001b[0m\u001b[0m\n",
      "\u001b[1;32m~\\anaconda3\\lib\\site-packages\\sqlalchemy\\engine\\base.py\u001b[0m in \u001b[0;36m_execute_context\u001b[1;34m(self, dialect, constructor, statement, parameters, execution_options, *args, **kw)\u001b[0m\n\u001b[0;32m   1769\u001b[0m                             \u001b[1;32mbreak\u001b[0m\u001b[1;33m\u001b[0m\u001b[1;33m\u001b[0m\u001b[0m\n\u001b[0;32m   1770\u001b[0m                 \u001b[1;32mif\u001b[0m \u001b[1;32mnot\u001b[0m \u001b[0mevt_handled\u001b[0m\u001b[1;33m:\u001b[0m\u001b[1;33m\u001b[0m\u001b[1;33m\u001b[0m\u001b[0m\n\u001b[1;32m-> 1771\u001b[1;33m                     self.dialect.do_execute(\n\u001b[0m\u001b[0;32m   1772\u001b[0m                         \u001b[0mcursor\u001b[0m\u001b[1;33m,\u001b[0m \u001b[0mstatement\u001b[0m\u001b[1;33m,\u001b[0m \u001b[0mparameters\u001b[0m\u001b[1;33m,\u001b[0m \u001b[0mcontext\u001b[0m\u001b[1;33m\u001b[0m\u001b[1;33m\u001b[0m\u001b[0m\n\u001b[0;32m   1773\u001b[0m                     )\n",
      "\u001b[1;32m~\\anaconda3\\lib\\site-packages\\sqlalchemy\\engine\\default.py\u001b[0m in \u001b[0;36mdo_execute\u001b[1;34m(self, cursor, statement, parameters, context)\u001b[0m\n\u001b[0;32m    715\u001b[0m \u001b[1;33m\u001b[0m\u001b[0m\n\u001b[0;32m    716\u001b[0m     \u001b[1;32mdef\u001b[0m \u001b[0mdo_execute\u001b[0m\u001b[1;33m(\u001b[0m\u001b[0mself\u001b[0m\u001b[1;33m,\u001b[0m \u001b[0mcursor\u001b[0m\u001b[1;33m,\u001b[0m \u001b[0mstatement\u001b[0m\u001b[1;33m,\u001b[0m \u001b[0mparameters\u001b[0m\u001b[1;33m,\u001b[0m \u001b[0mcontext\u001b[0m\u001b[1;33m=\u001b[0m\u001b[1;32mNone\u001b[0m\u001b[1;33m)\u001b[0m\u001b[1;33m:\u001b[0m\u001b[1;33m\u001b[0m\u001b[1;33m\u001b[0m\u001b[0m\n\u001b[1;32m--> 717\u001b[1;33m         \u001b[0mcursor\u001b[0m\u001b[1;33m.\u001b[0m\u001b[0mexecute\u001b[0m\u001b[1;33m(\u001b[0m\u001b[0mstatement\u001b[0m\u001b[1;33m,\u001b[0m \u001b[0mparameters\u001b[0m\u001b[1;33m)\u001b[0m\u001b[1;33m\u001b[0m\u001b[1;33m\u001b[0m\u001b[0m\n\u001b[0m\u001b[0;32m    718\u001b[0m \u001b[1;33m\u001b[0m\u001b[0m\n\u001b[0;32m    719\u001b[0m     \u001b[1;32mdef\u001b[0m \u001b[0mdo_execute_no_params\u001b[0m\u001b[1;33m(\u001b[0m\u001b[0mself\u001b[0m\u001b[1;33m,\u001b[0m \u001b[0mcursor\u001b[0m\u001b[1;33m,\u001b[0m \u001b[0mstatement\u001b[0m\u001b[1;33m,\u001b[0m \u001b[0mcontext\u001b[0m\u001b[1;33m=\u001b[0m\u001b[1;32mNone\u001b[0m\u001b[1;33m)\u001b[0m\u001b[1;33m:\u001b[0m\u001b[1;33m\u001b[0m\u001b[1;33m\u001b[0m\u001b[0m\n",
      "\u001b[1;32m~\\anaconda3\\lib\\site-packages\\mysql\\connector\\cursor_cext.py\u001b[0m in \u001b[0;36mexecute\u001b[1;34m(self, operation, params, multi)\u001b[0m\n\u001b[0;32m    328\u001b[0m \u001b[1;33m\u001b[0m\u001b[0m\n\u001b[0;32m    329\u001b[0m         \u001b[1;32mtry\u001b[0m\u001b[1;33m:\u001b[0m\u001b[1;33m\u001b[0m\u001b[1;33m\u001b[0m\u001b[0m\n\u001b[1;32m--> 330\u001b[1;33m             result = self._cnx.cmd_query(\n\u001b[0m\u001b[0;32m    331\u001b[0m                 \u001b[0mstmt\u001b[0m\u001b[1;33m,\u001b[0m\u001b[1;33m\u001b[0m\u001b[1;33m\u001b[0m\u001b[0m\n\u001b[0;32m    332\u001b[0m                 \u001b[0mraw\u001b[0m\u001b[1;33m=\u001b[0m\u001b[0mself\u001b[0m\u001b[1;33m.\u001b[0m\u001b[0m_raw\u001b[0m\u001b[1;33m,\u001b[0m\u001b[1;33m\u001b[0m\u001b[1;33m\u001b[0m\u001b[0m\n",
      "\u001b[1;32m~\\anaconda3\\lib\\site-packages\\mysql\\connector\\connection_cext.py\u001b[0m in \u001b[0;36mcmd_query\u001b[1;34m(self, query, raw, buffered, raw_as_string)\u001b[0m\n\u001b[0;32m    617\u001b[0m             )\n\u001b[0;32m    618\u001b[0m         \u001b[1;32mexcept\u001b[0m \u001b[0mMySQLInterfaceError\u001b[0m \u001b[1;32mas\u001b[0m \u001b[0merr\u001b[0m\u001b[1;33m:\u001b[0m\u001b[1;33m\u001b[0m\u001b[1;33m\u001b[0m\u001b[0m\n\u001b[1;32m--> 619\u001b[1;33m             raise get_mysql_exception(\n\u001b[0m\u001b[0;32m    620\u001b[0m                 \u001b[0merr\u001b[0m\u001b[1;33m.\u001b[0m\u001b[0merrno\u001b[0m\u001b[1;33m,\u001b[0m \u001b[0mmsg\u001b[0m\u001b[1;33m=\u001b[0m\u001b[0merr\u001b[0m\u001b[1;33m.\u001b[0m\u001b[0mmsg\u001b[0m\u001b[1;33m,\u001b[0m \u001b[0msqlstate\u001b[0m\u001b[1;33m=\u001b[0m\u001b[0merr\u001b[0m\u001b[1;33m.\u001b[0m\u001b[0msqlstate\u001b[0m\u001b[1;33m\u001b[0m\u001b[1;33m\u001b[0m\u001b[0m\n\u001b[0;32m    621\u001b[0m             ) from err\n",
      "\u001b[1;31mProgrammingError\u001b[0m: (mysql.connector.errors.ProgrammingError) 1146 (42S02): Table 'new_database.new_database' doesn't exist\n[SQL: SELECT * FROM new_database LIMIT 10;]\n(Background on this error at: https://sqlalche.me/e/14/f405)"
     ]
    }
   ],
   "source": [
    "#Execute the SQL query to retrieve the top 10 records from the table\n",
    "Query2 = f\"SELECT * FROM {new_db_name} LIMIT 10;\"\n",
    "result2 = engine.execute(Query2)\n",
    "\n",
    "#Fetch the result and print it\n",
    "result2"
   ]
  },
  {
   "cell_type": "markdown",
   "id": "883d1b12-12f0-4d1e-9717-ac11be214215",
   "metadata": {},
   "source": [
    "#### ○ Querie 3:"
   ]
  },
  {
   "cell_type": "code",
   "execution_count": 64,
   "id": "9c02f5b3-1e0f-4e74-b39e-7af74083f0dc",
   "metadata": {},
   "outputs": [
    {
     "ename": "ProgrammingError",
     "evalue": "(mysql.connector.errors.ProgrammingError) 1146 (42S02): Table 'new_database.new_database' doesn't exist\n[SQL: SELECT MAX(Price) AS max_price FROM new_database;]\n(Background on this error at: https://sqlalche.me/e/14/f405)",
     "output_type": "error",
     "traceback": [
      "\u001b[1;31m---------------------------------------------------------------------------\u001b[0m",
      "\u001b[1;31mMySQLInterfaceError\u001b[0m                       Traceback (most recent call last)",
      "\u001b[1;32m~\\anaconda3\\lib\\site-packages\\mysql\\connector\\connection_cext.py\u001b[0m in \u001b[0;36mcmd_query\u001b[1;34m(self, query, raw, buffered, raw_as_string)\u001b[0m\n\u001b[0;32m    610\u001b[0m                 \u001b[0mquery\u001b[0m \u001b[1;33m=\u001b[0m \u001b[0mquery\u001b[0m\u001b[1;33m.\u001b[0m\u001b[0mencode\u001b[0m\u001b[1;33m(\u001b[0m\u001b[1;34m\"utf-8\"\u001b[0m\u001b[1;33m)\u001b[0m\u001b[1;33m\u001b[0m\u001b[1;33m\u001b[0m\u001b[0m\n\u001b[1;32m--> 611\u001b[1;33m             self._cmysql.query(\n\u001b[0m\u001b[0;32m    612\u001b[0m                 \u001b[0mquery\u001b[0m\u001b[1;33m,\u001b[0m\u001b[1;33m\u001b[0m\u001b[1;33m\u001b[0m\u001b[0m\n",
      "\u001b[1;31mMySQLInterfaceError\u001b[0m: Table 'new_database.new_database' doesn't exist",
      "\nThe above exception was the direct cause of the following exception:\n",
      "\u001b[1;31mProgrammingError\u001b[0m                          Traceback (most recent call last)",
      "\u001b[1;32m~\\anaconda3\\lib\\site-packages\\sqlalchemy\\engine\\base.py\u001b[0m in \u001b[0;36m_execute_context\u001b[1;34m(self, dialect, constructor, statement, parameters, execution_options, *args, **kw)\u001b[0m\n\u001b[0;32m   1770\u001b[0m                 \u001b[1;32mif\u001b[0m \u001b[1;32mnot\u001b[0m \u001b[0mevt_handled\u001b[0m\u001b[1;33m:\u001b[0m\u001b[1;33m\u001b[0m\u001b[1;33m\u001b[0m\u001b[0m\n\u001b[1;32m-> 1771\u001b[1;33m                     self.dialect.do_execute(\n\u001b[0m\u001b[0;32m   1772\u001b[0m                         \u001b[0mcursor\u001b[0m\u001b[1;33m,\u001b[0m \u001b[0mstatement\u001b[0m\u001b[1;33m,\u001b[0m \u001b[0mparameters\u001b[0m\u001b[1;33m,\u001b[0m \u001b[0mcontext\u001b[0m\u001b[1;33m\u001b[0m\u001b[1;33m\u001b[0m\u001b[0m\n",
      "\u001b[1;32m~\\anaconda3\\lib\\site-packages\\sqlalchemy\\engine\\default.py\u001b[0m in \u001b[0;36mdo_execute\u001b[1;34m(self, cursor, statement, parameters, context)\u001b[0m\n\u001b[0;32m    716\u001b[0m     \u001b[1;32mdef\u001b[0m \u001b[0mdo_execute\u001b[0m\u001b[1;33m(\u001b[0m\u001b[0mself\u001b[0m\u001b[1;33m,\u001b[0m \u001b[0mcursor\u001b[0m\u001b[1;33m,\u001b[0m \u001b[0mstatement\u001b[0m\u001b[1;33m,\u001b[0m \u001b[0mparameters\u001b[0m\u001b[1;33m,\u001b[0m \u001b[0mcontext\u001b[0m\u001b[1;33m=\u001b[0m\u001b[1;32mNone\u001b[0m\u001b[1;33m)\u001b[0m\u001b[1;33m:\u001b[0m\u001b[1;33m\u001b[0m\u001b[1;33m\u001b[0m\u001b[0m\n\u001b[1;32m--> 717\u001b[1;33m         \u001b[0mcursor\u001b[0m\u001b[1;33m.\u001b[0m\u001b[0mexecute\u001b[0m\u001b[1;33m(\u001b[0m\u001b[0mstatement\u001b[0m\u001b[1;33m,\u001b[0m \u001b[0mparameters\u001b[0m\u001b[1;33m)\u001b[0m\u001b[1;33m\u001b[0m\u001b[1;33m\u001b[0m\u001b[0m\n\u001b[0m\u001b[0;32m    718\u001b[0m \u001b[1;33m\u001b[0m\u001b[0m\n",
      "\u001b[1;32m~\\anaconda3\\lib\\site-packages\\mysql\\connector\\cursor_cext.py\u001b[0m in \u001b[0;36mexecute\u001b[1;34m(self, operation, params, multi)\u001b[0m\n\u001b[0;32m    329\u001b[0m         \u001b[1;32mtry\u001b[0m\u001b[1;33m:\u001b[0m\u001b[1;33m\u001b[0m\u001b[1;33m\u001b[0m\u001b[0m\n\u001b[1;32m--> 330\u001b[1;33m             result = self._cnx.cmd_query(\n\u001b[0m\u001b[0;32m    331\u001b[0m                 \u001b[0mstmt\u001b[0m\u001b[1;33m,\u001b[0m\u001b[1;33m\u001b[0m\u001b[1;33m\u001b[0m\u001b[0m\n",
      "\u001b[1;32m~\\anaconda3\\lib\\site-packages\\mysql\\connector\\connection_cext.py\u001b[0m in \u001b[0;36mcmd_query\u001b[1;34m(self, query, raw, buffered, raw_as_string)\u001b[0m\n\u001b[0;32m    618\u001b[0m         \u001b[1;32mexcept\u001b[0m \u001b[0mMySQLInterfaceError\u001b[0m \u001b[1;32mas\u001b[0m \u001b[0merr\u001b[0m\u001b[1;33m:\u001b[0m\u001b[1;33m\u001b[0m\u001b[1;33m\u001b[0m\u001b[0m\n\u001b[1;32m--> 619\u001b[1;33m             raise get_mysql_exception(\n\u001b[0m\u001b[0;32m    620\u001b[0m                 \u001b[0merr\u001b[0m\u001b[1;33m.\u001b[0m\u001b[0merrno\u001b[0m\u001b[1;33m,\u001b[0m \u001b[0mmsg\u001b[0m\u001b[1;33m=\u001b[0m\u001b[0merr\u001b[0m\u001b[1;33m.\u001b[0m\u001b[0mmsg\u001b[0m\u001b[1;33m,\u001b[0m \u001b[0msqlstate\u001b[0m\u001b[1;33m=\u001b[0m\u001b[0merr\u001b[0m\u001b[1;33m.\u001b[0m\u001b[0msqlstate\u001b[0m\u001b[1;33m\u001b[0m\u001b[1;33m\u001b[0m\u001b[0m\n",
      "\u001b[1;31mProgrammingError\u001b[0m: 1146 (42S02): Table 'new_database.new_database' doesn't exist",
      "\nThe above exception was the direct cause of the following exception:\n",
      "\u001b[1;31mProgrammingError\u001b[0m                          Traceback (most recent call last)",
      "\u001b[1;32m~\\AppData\\Local\\Temp/ipykernel_16128/183780368.py\u001b[0m in \u001b[0;36m<module>\u001b[1;34m\u001b[0m\n\u001b[0;32m      1\u001b[0m \u001b[1;31m#Execute the SQL query to calculate summary statistics\u001b[0m\u001b[1;33m\u001b[0m\u001b[1;33m\u001b[0m\u001b[0m\n\u001b[1;32m----> 2\u001b[1;33m \u001b[0mQuery3\u001b[0m \u001b[1;33m=\u001b[0m \u001b[0mengine\u001b[0m\u001b[1;33m.\u001b[0m\u001b[0mexecute\u001b[0m\u001b[1;33m(\u001b[0m\u001b[1;34mf\"SELECT MAX(Price) AS max_price FROM {new_db_name};\"\u001b[0m\u001b[1;33m)\u001b[0m\u001b[1;33m\u001b[0m\u001b[1;33m\u001b[0m\u001b[0m\n\u001b[0m\u001b[0;32m      3\u001b[0m \u001b[0mQuery3_2\u001b[0m \u001b[1;33m=\u001b[0m \u001b[0mengine\u001b[0m\u001b[1;33m.\u001b[0m\u001b[0mexecute\u001b[0m\u001b[1;33m(\u001b[0m\u001b[1;34mf\"SELECT MAX('Standardized Price') AS max_price_2 FROM {new_db_name};\"\u001b[0m\u001b[1;33m)\u001b[0m\u001b[1;33m\u001b[0m\u001b[1;33m\u001b[0m\u001b[0m\n\u001b[0;32m      4\u001b[0m \u001b[1;33m\u001b[0m\u001b[0m\n\u001b[0;32m      5\u001b[0m \u001b[1;31m#Fetch the maximum value from the result\u001b[0m\u001b[1;33m\u001b[0m\u001b[1;33m\u001b[0m\u001b[0m\n",
      "\u001b[1;32m<string>\u001b[0m in \u001b[0;36mexecute\u001b[1;34m(self, statement, *multiparams, **params)\u001b[0m\n",
      "\u001b[1;32m~\\anaconda3\\lib\\site-packages\\sqlalchemy\\util\\deprecations.py\u001b[0m in \u001b[0;36mwarned\u001b[1;34m(fn, *args, **kwargs)\u001b[0m\n\u001b[0;32m    388\u001b[0m         \u001b[1;32mif\u001b[0m \u001b[1;32mnot\u001b[0m \u001b[0mskip_warning\u001b[0m\u001b[1;33m:\u001b[0m\u001b[1;33m\u001b[0m\u001b[1;33m\u001b[0m\u001b[0m\n\u001b[0;32m    389\u001b[0m             \u001b[0m_warn_with_version\u001b[0m\u001b[1;33m(\u001b[0m\u001b[0mmessage\u001b[0m\u001b[1;33m,\u001b[0m \u001b[0mversion\u001b[0m\u001b[1;33m,\u001b[0m \u001b[0mwtype\u001b[0m\u001b[1;33m,\u001b[0m \u001b[0mstacklevel\u001b[0m\u001b[1;33m=\u001b[0m\u001b[1;36m3\u001b[0m\u001b[1;33m)\u001b[0m\u001b[1;33m\u001b[0m\u001b[1;33m\u001b[0m\u001b[0m\n\u001b[1;32m--> 390\u001b[1;33m         \u001b[1;32mreturn\u001b[0m \u001b[0mfn\u001b[0m\u001b[1;33m(\u001b[0m\u001b[1;33m*\u001b[0m\u001b[0margs\u001b[0m\u001b[1;33m,\u001b[0m \u001b[1;33m**\u001b[0m\u001b[0mkwargs\u001b[0m\u001b[1;33m)\u001b[0m\u001b[1;33m\u001b[0m\u001b[1;33m\u001b[0m\u001b[0m\n\u001b[0m\u001b[0;32m    391\u001b[0m \u001b[1;33m\u001b[0m\u001b[0m\n\u001b[0;32m    392\u001b[0m     \u001b[0mdoc\u001b[0m \u001b[1;33m=\u001b[0m \u001b[0mfunc\u001b[0m\u001b[1;33m.\u001b[0m\u001b[0m__doc__\u001b[0m \u001b[1;32mis\u001b[0m \u001b[1;32mnot\u001b[0m \u001b[1;32mNone\u001b[0m \u001b[1;32mand\u001b[0m \u001b[0mfunc\u001b[0m\u001b[1;33m.\u001b[0m\u001b[0m__doc__\u001b[0m \u001b[1;32mor\u001b[0m \u001b[1;34m\"\"\u001b[0m\u001b[1;33m\u001b[0m\u001b[1;33m\u001b[0m\u001b[0m\n",
      "\u001b[1;32m~\\anaconda3\\lib\\site-packages\\sqlalchemy\\engine\\base.py\u001b[0m in \u001b[0;36mexecute\u001b[1;34m(self, statement, *multiparams, **params)\u001b[0m\n\u001b[0;32m   3106\u001b[0m         \"\"\"\n\u001b[0;32m   3107\u001b[0m         \u001b[0mconnection\u001b[0m \u001b[1;33m=\u001b[0m \u001b[0mself\u001b[0m\u001b[1;33m.\u001b[0m\u001b[0mconnect\u001b[0m\u001b[1;33m(\u001b[0m\u001b[0mclose_with_result\u001b[0m\u001b[1;33m=\u001b[0m\u001b[1;32mTrue\u001b[0m\u001b[1;33m)\u001b[0m\u001b[1;33m\u001b[0m\u001b[1;33m\u001b[0m\u001b[0m\n\u001b[1;32m-> 3108\u001b[1;33m         \u001b[1;32mreturn\u001b[0m \u001b[0mconnection\u001b[0m\u001b[1;33m.\u001b[0m\u001b[0mexecute\u001b[0m\u001b[1;33m(\u001b[0m\u001b[0mstatement\u001b[0m\u001b[1;33m,\u001b[0m \u001b[1;33m*\u001b[0m\u001b[0mmultiparams\u001b[0m\u001b[1;33m,\u001b[0m \u001b[1;33m**\u001b[0m\u001b[0mparams\u001b[0m\u001b[1;33m)\u001b[0m\u001b[1;33m\u001b[0m\u001b[1;33m\u001b[0m\u001b[0m\n\u001b[0m\u001b[0;32m   3109\u001b[0m \u001b[1;33m\u001b[0m\u001b[0m\n\u001b[0;32m   3110\u001b[0m     @util.deprecated_20(\n",
      "\u001b[1;32m~\\anaconda3\\lib\\site-packages\\sqlalchemy\\engine\\base.py\u001b[0m in \u001b[0;36mexecute\u001b[1;34m(self, statement, *multiparams, **params)\u001b[0m\n\u001b[0;32m   1246\u001b[0m             )\n\u001b[0;32m   1247\u001b[0m \u001b[1;33m\u001b[0m\u001b[0m\n\u001b[1;32m-> 1248\u001b[1;33m             return self._exec_driver_sql(\n\u001b[0m\u001b[0;32m   1249\u001b[0m                 \u001b[0mstatement\u001b[0m\u001b[1;33m,\u001b[0m\u001b[1;33m\u001b[0m\u001b[1;33m\u001b[0m\u001b[0m\n\u001b[0;32m   1250\u001b[0m                 \u001b[0mmultiparams\u001b[0m\u001b[1;33m,\u001b[0m\u001b[1;33m\u001b[0m\u001b[1;33m\u001b[0m\u001b[0m\n",
      "\u001b[1;32m~\\anaconda3\\lib\\site-packages\\sqlalchemy\\engine\\base.py\u001b[0m in \u001b[0;36m_exec_driver_sql\u001b[1;34m(self, statement, multiparams, params, execution_options, future)\u001b[0m\n\u001b[0;32m   1545\u001b[0m \u001b[1;33m\u001b[0m\u001b[0m\n\u001b[0;32m   1546\u001b[0m         \u001b[0mdialect\u001b[0m \u001b[1;33m=\u001b[0m \u001b[0mself\u001b[0m\u001b[1;33m.\u001b[0m\u001b[0mdialect\u001b[0m\u001b[1;33m\u001b[0m\u001b[1;33m\u001b[0m\u001b[0m\n\u001b[1;32m-> 1547\u001b[1;33m         ret = self._execute_context(\n\u001b[0m\u001b[0;32m   1548\u001b[0m             \u001b[0mdialect\u001b[0m\u001b[1;33m,\u001b[0m\u001b[1;33m\u001b[0m\u001b[1;33m\u001b[0m\u001b[0m\n\u001b[0;32m   1549\u001b[0m             \u001b[0mdialect\u001b[0m\u001b[1;33m.\u001b[0m\u001b[0mexecution_ctx_cls\u001b[0m\u001b[1;33m.\u001b[0m\u001b[0m_init_statement\u001b[0m\u001b[1;33m,\u001b[0m\u001b[1;33m\u001b[0m\u001b[1;33m\u001b[0m\u001b[0m\n",
      "\u001b[1;32m~\\anaconda3\\lib\\site-packages\\sqlalchemy\\engine\\base.py\u001b[0m in \u001b[0;36m_execute_context\u001b[1;34m(self, dialect, constructor, statement, parameters, execution_options, *args, **kw)\u001b[0m\n\u001b[0;32m   1812\u001b[0m \u001b[1;33m\u001b[0m\u001b[0m\n\u001b[0;32m   1813\u001b[0m         \u001b[1;32mexcept\u001b[0m \u001b[0mBaseException\u001b[0m \u001b[1;32mas\u001b[0m \u001b[0me\u001b[0m\u001b[1;33m:\u001b[0m\u001b[1;33m\u001b[0m\u001b[1;33m\u001b[0m\u001b[0m\n\u001b[1;32m-> 1814\u001b[1;33m             self._handle_dbapi_exception(\n\u001b[0m\u001b[0;32m   1815\u001b[0m                 \u001b[0me\u001b[0m\u001b[1;33m,\u001b[0m \u001b[0mstatement\u001b[0m\u001b[1;33m,\u001b[0m \u001b[0mparameters\u001b[0m\u001b[1;33m,\u001b[0m \u001b[0mcursor\u001b[0m\u001b[1;33m,\u001b[0m \u001b[0mcontext\u001b[0m\u001b[1;33m\u001b[0m\u001b[1;33m\u001b[0m\u001b[0m\n\u001b[0;32m   1816\u001b[0m             )\n",
      "\u001b[1;32m~\\anaconda3\\lib\\site-packages\\sqlalchemy\\engine\\base.py\u001b[0m in \u001b[0;36m_handle_dbapi_exception\u001b[1;34m(self, e, statement, parameters, cursor, context)\u001b[0m\n\u001b[0;32m   1993\u001b[0m                 \u001b[0mutil\u001b[0m\u001b[1;33m.\u001b[0m\u001b[0mraise_\u001b[0m\u001b[1;33m(\u001b[0m\u001b[0mnewraise\u001b[0m\u001b[1;33m,\u001b[0m \u001b[0mwith_traceback\u001b[0m\u001b[1;33m=\u001b[0m\u001b[0mexc_info\u001b[0m\u001b[1;33m[\u001b[0m\u001b[1;36m2\u001b[0m\u001b[1;33m]\u001b[0m\u001b[1;33m,\u001b[0m \u001b[0mfrom_\u001b[0m\u001b[1;33m=\u001b[0m\u001b[0me\u001b[0m\u001b[1;33m)\u001b[0m\u001b[1;33m\u001b[0m\u001b[1;33m\u001b[0m\u001b[0m\n\u001b[0;32m   1994\u001b[0m             \u001b[1;32melif\u001b[0m \u001b[0mshould_wrap\u001b[0m\u001b[1;33m:\u001b[0m\u001b[1;33m\u001b[0m\u001b[1;33m\u001b[0m\u001b[0m\n\u001b[1;32m-> 1995\u001b[1;33m                 util.raise_(\n\u001b[0m\u001b[0;32m   1996\u001b[0m                     \u001b[0msqlalchemy_exception\u001b[0m\u001b[1;33m,\u001b[0m \u001b[0mwith_traceback\u001b[0m\u001b[1;33m=\u001b[0m\u001b[0mexc_info\u001b[0m\u001b[1;33m[\u001b[0m\u001b[1;36m2\u001b[0m\u001b[1;33m]\u001b[0m\u001b[1;33m,\u001b[0m \u001b[0mfrom_\u001b[0m\u001b[1;33m=\u001b[0m\u001b[0me\u001b[0m\u001b[1;33m\u001b[0m\u001b[1;33m\u001b[0m\u001b[0m\n\u001b[0;32m   1997\u001b[0m                 )\n",
      "\u001b[1;32m~\\anaconda3\\lib\\site-packages\\sqlalchemy\\util\\compat.py\u001b[0m in \u001b[0;36mraise_\u001b[1;34m(***failed resolving arguments***)\u001b[0m\n\u001b[0;32m    205\u001b[0m \u001b[1;33m\u001b[0m\u001b[0m\n\u001b[0;32m    206\u001b[0m         \u001b[1;32mtry\u001b[0m\u001b[1;33m:\u001b[0m\u001b[1;33m\u001b[0m\u001b[1;33m\u001b[0m\u001b[0m\n\u001b[1;32m--> 207\u001b[1;33m             \u001b[1;32mraise\u001b[0m \u001b[0mexception\u001b[0m\u001b[1;33m\u001b[0m\u001b[1;33m\u001b[0m\u001b[0m\n\u001b[0m\u001b[0;32m    208\u001b[0m         \u001b[1;32mfinally\u001b[0m\u001b[1;33m:\u001b[0m\u001b[1;33m\u001b[0m\u001b[1;33m\u001b[0m\u001b[0m\n\u001b[0;32m    209\u001b[0m             \u001b[1;31m# credit to\u001b[0m\u001b[1;33m\u001b[0m\u001b[1;33m\u001b[0m\u001b[0m\n",
      "\u001b[1;32m~\\anaconda3\\lib\\site-packages\\sqlalchemy\\engine\\base.py\u001b[0m in \u001b[0;36m_execute_context\u001b[1;34m(self, dialect, constructor, statement, parameters, execution_options, *args, **kw)\u001b[0m\n\u001b[0;32m   1769\u001b[0m                             \u001b[1;32mbreak\u001b[0m\u001b[1;33m\u001b[0m\u001b[1;33m\u001b[0m\u001b[0m\n\u001b[0;32m   1770\u001b[0m                 \u001b[1;32mif\u001b[0m \u001b[1;32mnot\u001b[0m \u001b[0mevt_handled\u001b[0m\u001b[1;33m:\u001b[0m\u001b[1;33m\u001b[0m\u001b[1;33m\u001b[0m\u001b[0m\n\u001b[1;32m-> 1771\u001b[1;33m                     self.dialect.do_execute(\n\u001b[0m\u001b[0;32m   1772\u001b[0m                         \u001b[0mcursor\u001b[0m\u001b[1;33m,\u001b[0m \u001b[0mstatement\u001b[0m\u001b[1;33m,\u001b[0m \u001b[0mparameters\u001b[0m\u001b[1;33m,\u001b[0m \u001b[0mcontext\u001b[0m\u001b[1;33m\u001b[0m\u001b[1;33m\u001b[0m\u001b[0m\n\u001b[0;32m   1773\u001b[0m                     )\n",
      "\u001b[1;32m~\\anaconda3\\lib\\site-packages\\sqlalchemy\\engine\\default.py\u001b[0m in \u001b[0;36mdo_execute\u001b[1;34m(self, cursor, statement, parameters, context)\u001b[0m\n\u001b[0;32m    715\u001b[0m \u001b[1;33m\u001b[0m\u001b[0m\n\u001b[0;32m    716\u001b[0m     \u001b[1;32mdef\u001b[0m \u001b[0mdo_execute\u001b[0m\u001b[1;33m(\u001b[0m\u001b[0mself\u001b[0m\u001b[1;33m,\u001b[0m \u001b[0mcursor\u001b[0m\u001b[1;33m,\u001b[0m \u001b[0mstatement\u001b[0m\u001b[1;33m,\u001b[0m \u001b[0mparameters\u001b[0m\u001b[1;33m,\u001b[0m \u001b[0mcontext\u001b[0m\u001b[1;33m=\u001b[0m\u001b[1;32mNone\u001b[0m\u001b[1;33m)\u001b[0m\u001b[1;33m:\u001b[0m\u001b[1;33m\u001b[0m\u001b[1;33m\u001b[0m\u001b[0m\n\u001b[1;32m--> 717\u001b[1;33m         \u001b[0mcursor\u001b[0m\u001b[1;33m.\u001b[0m\u001b[0mexecute\u001b[0m\u001b[1;33m(\u001b[0m\u001b[0mstatement\u001b[0m\u001b[1;33m,\u001b[0m \u001b[0mparameters\u001b[0m\u001b[1;33m)\u001b[0m\u001b[1;33m\u001b[0m\u001b[1;33m\u001b[0m\u001b[0m\n\u001b[0m\u001b[0;32m    718\u001b[0m \u001b[1;33m\u001b[0m\u001b[0m\n\u001b[0;32m    719\u001b[0m     \u001b[1;32mdef\u001b[0m \u001b[0mdo_execute_no_params\u001b[0m\u001b[1;33m(\u001b[0m\u001b[0mself\u001b[0m\u001b[1;33m,\u001b[0m \u001b[0mcursor\u001b[0m\u001b[1;33m,\u001b[0m \u001b[0mstatement\u001b[0m\u001b[1;33m,\u001b[0m \u001b[0mcontext\u001b[0m\u001b[1;33m=\u001b[0m\u001b[1;32mNone\u001b[0m\u001b[1;33m)\u001b[0m\u001b[1;33m:\u001b[0m\u001b[1;33m\u001b[0m\u001b[1;33m\u001b[0m\u001b[0m\n",
      "\u001b[1;32m~\\anaconda3\\lib\\site-packages\\mysql\\connector\\cursor_cext.py\u001b[0m in \u001b[0;36mexecute\u001b[1;34m(self, operation, params, multi)\u001b[0m\n\u001b[0;32m    328\u001b[0m \u001b[1;33m\u001b[0m\u001b[0m\n\u001b[0;32m    329\u001b[0m         \u001b[1;32mtry\u001b[0m\u001b[1;33m:\u001b[0m\u001b[1;33m\u001b[0m\u001b[1;33m\u001b[0m\u001b[0m\n\u001b[1;32m--> 330\u001b[1;33m             result = self._cnx.cmd_query(\n\u001b[0m\u001b[0;32m    331\u001b[0m                 \u001b[0mstmt\u001b[0m\u001b[1;33m,\u001b[0m\u001b[1;33m\u001b[0m\u001b[1;33m\u001b[0m\u001b[0m\n\u001b[0;32m    332\u001b[0m                 \u001b[0mraw\u001b[0m\u001b[1;33m=\u001b[0m\u001b[0mself\u001b[0m\u001b[1;33m.\u001b[0m\u001b[0m_raw\u001b[0m\u001b[1;33m,\u001b[0m\u001b[1;33m\u001b[0m\u001b[1;33m\u001b[0m\u001b[0m\n",
      "\u001b[1;32m~\\anaconda3\\lib\\site-packages\\mysql\\connector\\connection_cext.py\u001b[0m in \u001b[0;36mcmd_query\u001b[1;34m(self, query, raw, buffered, raw_as_string)\u001b[0m\n\u001b[0;32m    617\u001b[0m             )\n\u001b[0;32m    618\u001b[0m         \u001b[1;32mexcept\u001b[0m \u001b[0mMySQLInterfaceError\u001b[0m \u001b[1;32mas\u001b[0m \u001b[0merr\u001b[0m\u001b[1;33m:\u001b[0m\u001b[1;33m\u001b[0m\u001b[1;33m\u001b[0m\u001b[0m\n\u001b[1;32m--> 619\u001b[1;33m             raise get_mysql_exception(\n\u001b[0m\u001b[0;32m    620\u001b[0m                 \u001b[0merr\u001b[0m\u001b[1;33m.\u001b[0m\u001b[0merrno\u001b[0m\u001b[1;33m,\u001b[0m \u001b[0mmsg\u001b[0m\u001b[1;33m=\u001b[0m\u001b[0merr\u001b[0m\u001b[1;33m.\u001b[0m\u001b[0mmsg\u001b[0m\u001b[1;33m,\u001b[0m \u001b[0msqlstate\u001b[0m\u001b[1;33m=\u001b[0m\u001b[0merr\u001b[0m\u001b[1;33m.\u001b[0m\u001b[0msqlstate\u001b[0m\u001b[1;33m\u001b[0m\u001b[1;33m\u001b[0m\u001b[0m\n\u001b[0;32m    621\u001b[0m             ) from err\n",
      "\u001b[1;31mProgrammingError\u001b[0m: (mysql.connector.errors.ProgrammingError) 1146 (42S02): Table 'new_database.new_database' doesn't exist\n[SQL: SELECT MAX(Price) AS max_price FROM new_database;]\n(Background on this error at: https://sqlalche.me/e/14/f405)"
     ]
    }
   ],
   "source": [
    "#Execute the SQL query to calculate summary statistics\n",
    "Query3 = engine.execute(f\"SELECT MAX(Price) AS max_price FROM {new_db_name};\")\n",
    "Query3_2 = engine.execute(f\"SELECT MAX('Standardized Price') AS max_price_2 FROM {new_db_name};\")\n",
    "\n",
    "#Fetch the maximum value from the result\n",
    "max_price = Query3.fetchone()[0]\n",
    "max_price_2 = Query3_2.fetchone()[0]\n",
    "\n",
    "print(\"Maximum price:\", max_price)\n",
    "print(\"Maximum Standardized Price:\", max_price_2)"
   ]
  },
  {
   "cell_type": "code",
   "execution_count": 33,
   "id": "68531070-562d-47d3-b808-c0c00327150a",
   "metadata": {},
   "outputs": [
    {
     "data": {
      "text/html": [
       "<div>\n",
       "<style scoped>\n",
       "    .dataframe tbody tr th:only-of-type {\n",
       "        vertical-align: middle;\n",
       "    }\n",
       "\n",
       "    .dataframe tbody tr th {\n",
       "        vertical-align: top;\n",
       "    }\n",
       "\n",
       "    .dataframe thead th {\n",
       "        text-align: right;\n",
       "    }\n",
       "</style>\n",
       "<table border=\"1\" class=\"dataframe\">\n",
       "  <thead>\n",
       "    <tr style=\"text-align: right;\">\n",
       "      <th></th>\n",
       "      <th>Image URL</th>\n",
       "      <th>Title</th>\n",
       "      <th>Link</th>\n",
       "      <th>Price</th>\n",
       "      <th>Rating</th>\n",
       "      <th>Number of Reviews</th>\n",
       "      <th>Availability</th>\n",
       "      <th>Standardized Price</th>\n",
       "      <th>Encoded Availability</th>\n",
       "      <th>Has Touchscreen</th>\n",
       "    </tr>\n",
       "  </thead>\n",
       "  <tbody>\n",
       "    <tr>\n",
       "      <th>0</th>\n",
       "      <td>https://m.media-amazon.com/images/I/71pTP-ll4s...</td>\n",
       "      <td>HP 15.6\" Portable Laptop (Include 1 Year Micro...</td>\n",
       "      <td>https://www.amazon.com/HP-Portable-Microsoft-Q...</td>\n",
       "      <td>309.990</td>\n",
       "      <td>4.3</td>\n",
       "      <td>343.432</td>\n",
       "      <td>Available</td>\n",
       "      <td>0.067546</td>\n",
       "      <td>0</td>\n",
       "      <td>0</td>\n",
       "    </tr>\n",
       "    <tr>\n",
       "      <th>1</th>\n",
       "      <td>https://m.media-amazon.com/images/I/61gKkYQn6l...</td>\n",
       "      <td>Acer Aspire 3 A315-24P-R7VH Slim Laptop | 15.6...</td>\n",
       "      <td>https://www.amazon.com/A315-24P-R7VH-Display-Q...</td>\n",
       "      <td>495.027</td>\n",
       "      <td>4.3</td>\n",
       "      <td>1747.000</td>\n",
       "      <td>Available</td>\n",
       "      <td>0.116368</td>\n",
       "      <td>0</td>\n",
       "      <td>0</td>\n",
       "    </tr>\n",
       "    <tr>\n",
       "      <th>2</th>\n",
       "      <td>https://m.media-amazon.com/images/I/71CDSpds6j...</td>\n",
       "      <td>HP 17 Laptop, 17.3” HD+ Display, 11th Gen Inte...</td>\n",
       "      <td>https://www.amazon.com/HP-Display-i3-1125G4-Pr...</td>\n",
       "      <td>495.027</td>\n",
       "      <td>4.4</td>\n",
       "      <td>572.000</td>\n",
       "      <td>Available</td>\n",
       "      <td>0.116368</td>\n",
       "      <td>0</td>\n",
       "      <td>0</td>\n",
       "    </tr>\n",
       "    <tr>\n",
       "      <th>3</th>\n",
       "      <td>https://m.media-amazon.com/images/I/711OHeRmEa...</td>\n",
       "      <td>HP Newest 14\" Ultral Light Laptop for Students...</td>\n",
       "      <td>https://www.amazon.com/HP-Students-Business-Qu...</td>\n",
       "      <td>495.027</td>\n",
       "      <td>4.2</td>\n",
       "      <td>1806.000</td>\n",
       "      <td>Available</td>\n",
       "      <td>0.116368</td>\n",
       "      <td>0</td>\n",
       "      <td>0</td>\n",
       "    </tr>\n",
       "    <tr>\n",
       "      <th>4</th>\n",
       "      <td>https://m.media-amazon.com/images/I/815uX7wkOZ...</td>\n",
       "      <td>HP 14 Laptop, Intel Celeron N4020, 4 GB RAM, 6...</td>\n",
       "      <td>https://www.amazon.com/HP-Micro-edge-Microsoft...</td>\n",
       "      <td>186.940</td>\n",
       "      <td>3.9</td>\n",
       "      <td>1291.000</td>\n",
       "      <td>Available</td>\n",
       "      <td>0.035079</td>\n",
       "      <td>0</td>\n",
       "      <td>0</td>\n",
       "    </tr>\n",
       "    <tr>\n",
       "      <th>...</th>\n",
       "      <td>...</td>\n",
       "      <td>...</td>\n",
       "      <td>...</td>\n",
       "      <td>...</td>\n",
       "      <td>...</td>\n",
       "      <td>...</td>\n",
       "      <td>...</td>\n",
       "      <td>...</td>\n",
       "      <td>...</td>\n",
       "      <td>...</td>\n",
       "    </tr>\n",
       "    <tr>\n",
       "      <th>420</th>\n",
       "      <td>https://m.media-amazon.com/images/I/717lfaecwB...</td>\n",
       "      <td>HP Pavilion Plus 14 inch Laptop, 2.8K OLED Dis...</td>\n",
       "      <td>https://www.amazon.com/HP-Pavilion-Generation-...</td>\n",
       "      <td>495.027</td>\n",
       "      <td>4.3</td>\n",
       "      <td>51.000</td>\n",
       "      <td>Available</td>\n",
       "      <td>0.116368</td>\n",
       "      <td>0</td>\n",
       "      <td>0</td>\n",
       "    </tr>\n",
       "    <tr>\n",
       "      <th>421</th>\n",
       "      <td>https://m.media-amazon.com/images/I/71SVP-CL5Y...</td>\n",
       "      <td>LG gram 14-inch Lightweight Laptop, Intel Evo ...</td>\n",
       "      <td>https://www.amazon.com/sspa/click?ie=UTF8&amp;spc=...</td>\n",
       "      <td>495.027</td>\n",
       "      <td>4.3</td>\n",
       "      <td>12.000</td>\n",
       "      <td>Available</td>\n",
       "      <td>0.116368</td>\n",
       "      <td>0</td>\n",
       "      <td>0</td>\n",
       "    </tr>\n",
       "    <tr>\n",
       "      <th>422</th>\n",
       "      <td>https://m.media-amazon.com/images/I/71a7M-Sd1X...</td>\n",
       "      <td>LG gram 15-inch Lightweight Laptop, Intel Evo ...</td>\n",
       "      <td>https://www.amazon.com/sspa/click?ie=UTF8&amp;spc=...</td>\n",
       "      <td>495.027</td>\n",
       "      <td>4.4</td>\n",
       "      <td>14.000</td>\n",
       "      <td>Available</td>\n",
       "      <td>0.116368</td>\n",
       "      <td>0</td>\n",
       "      <td>0</td>\n",
       "    </tr>\n",
       "    <tr>\n",
       "      <th>423</th>\n",
       "      <td>https://m.media-amazon.com/images/I/71fRXRI3V7...</td>\n",
       "      <td>LG gram 14-inch 2in1 Lightweight Laptop, Intel...</td>\n",
       "      <td>https://www.amazon.com/sspa/click?ie=UTF8&amp;spc=...</td>\n",
       "      <td>495.027</td>\n",
       "      <td>4.0</td>\n",
       "      <td>2.000</td>\n",
       "      <td>Available</td>\n",
       "      <td>0.116368</td>\n",
       "      <td>0</td>\n",
       "      <td>0</td>\n",
       "    </tr>\n",
       "    <tr>\n",
       "      <th>424</th>\n",
       "      <td>https://m.media-amazon.com/images/I/71f7N9q33y...</td>\n",
       "      <td>LG gram 16-inch Lightweight Laptop, Intel Evo ...</td>\n",
       "      <td>https://www.amazon.com/sspa/click?ie=UTF8&amp;spc=...</td>\n",
       "      <td>495.027</td>\n",
       "      <td>4.4</td>\n",
       "      <td>13.000</td>\n",
       "      <td>Available</td>\n",
       "      <td>0.116368</td>\n",
       "      <td>0</td>\n",
       "      <td>0</td>\n",
       "    </tr>\n",
       "  </tbody>\n",
       "</table>\n",
       "<p>425 rows × 10 columns</p>\n",
       "</div>"
      ],
      "text/plain": [
       "                                             Image URL  \\\n",
       "0    https://m.media-amazon.com/images/I/71pTP-ll4s...   \n",
       "1    https://m.media-amazon.com/images/I/61gKkYQn6l...   \n",
       "2    https://m.media-amazon.com/images/I/71CDSpds6j...   \n",
       "3    https://m.media-amazon.com/images/I/711OHeRmEa...   \n",
       "4    https://m.media-amazon.com/images/I/815uX7wkOZ...   \n",
       "..                                                 ...   \n",
       "420  https://m.media-amazon.com/images/I/717lfaecwB...   \n",
       "421  https://m.media-amazon.com/images/I/71SVP-CL5Y...   \n",
       "422  https://m.media-amazon.com/images/I/71a7M-Sd1X...   \n",
       "423  https://m.media-amazon.com/images/I/71fRXRI3V7...   \n",
       "424  https://m.media-amazon.com/images/I/71f7N9q33y...   \n",
       "\n",
       "                                                 Title  \\\n",
       "0    HP 15.6\" Portable Laptop (Include 1 Year Micro...   \n",
       "1    Acer Aspire 3 A315-24P-R7VH Slim Laptop | 15.6...   \n",
       "2    HP 17 Laptop, 17.3” HD+ Display, 11th Gen Inte...   \n",
       "3    HP Newest 14\" Ultral Light Laptop for Students...   \n",
       "4    HP 14 Laptop, Intel Celeron N4020, 4 GB RAM, 6...   \n",
       "..                                                 ...   \n",
       "420  HP Pavilion Plus 14 inch Laptop, 2.8K OLED Dis...   \n",
       "421  LG gram 14-inch Lightweight Laptop, Intel Evo ...   \n",
       "422  LG gram 15-inch Lightweight Laptop, Intel Evo ...   \n",
       "423  LG gram 14-inch 2in1 Lightweight Laptop, Intel...   \n",
       "424  LG gram 16-inch Lightweight Laptop, Intel Evo ...   \n",
       "\n",
       "                                                  Link    Price  Rating  \\\n",
       "0    https://www.amazon.com/HP-Portable-Microsoft-Q...  309.990     4.3   \n",
       "1    https://www.amazon.com/A315-24P-R7VH-Display-Q...  495.027     4.3   \n",
       "2    https://www.amazon.com/HP-Display-i3-1125G4-Pr...  495.027     4.4   \n",
       "3    https://www.amazon.com/HP-Students-Business-Qu...  495.027     4.2   \n",
       "4    https://www.amazon.com/HP-Micro-edge-Microsoft...  186.940     3.9   \n",
       "..                                                 ...      ...     ...   \n",
       "420  https://www.amazon.com/HP-Pavilion-Generation-...  495.027     4.3   \n",
       "421  https://www.amazon.com/sspa/click?ie=UTF8&spc=...  495.027     4.3   \n",
       "422  https://www.amazon.com/sspa/click?ie=UTF8&spc=...  495.027     4.4   \n",
       "423  https://www.amazon.com/sspa/click?ie=UTF8&spc=...  495.027     4.0   \n",
       "424  https://www.amazon.com/sspa/click?ie=UTF8&spc=...  495.027     4.4   \n",
       "\n",
       "     Number of Reviews Availability  Standardized Price  Encoded Availability  \\\n",
       "0              343.432    Available            0.067546                     0   \n",
       "1             1747.000    Available            0.116368                     0   \n",
       "2              572.000    Available            0.116368                     0   \n",
       "3             1806.000    Available            0.116368                     0   \n",
       "4             1291.000    Available            0.035079                     0   \n",
       "..                 ...          ...                 ...                   ...   \n",
       "420             51.000    Available            0.116368                     0   \n",
       "421             12.000    Available            0.116368                     0   \n",
       "422             14.000    Available            0.116368                     0   \n",
       "423              2.000    Available            0.116368                     0   \n",
       "424             13.000    Available            0.116368                     0   \n",
       "\n",
       "     Has Touchscreen  \n",
       "0                  0  \n",
       "1                  0  \n",
       "2                  0  \n",
       "3                  0  \n",
       "4                  0  \n",
       "..               ...  \n",
       "420                0  \n",
       "421                0  \n",
       "422                0  \n",
       "423                0  \n",
       "424                0  \n",
       "\n",
       "[425 rows x 10 columns]"
      ]
     },
     "execution_count": 33,
     "metadata": {},
     "output_type": "execute_result"
    }
   ],
   "source": [
    "#Execute the SQL query to retrieve all content from the table\n",
    "result = engine.execute(f\"SELECT * FROM {new_db_name};\")\n",
    "\n",
    "#Fetch all rows from the result\n",
    "rows = result.fetchall()\n",
    "\n",
    "#Convert the result to a DataFrame\n",
    "df45 = pd.DataFrame(rows, columns=result.keys())\n",
    "df45"
   ]
  },
  {
   "cell_type": "markdown",
   "id": "5514de78-3e4f-412d-a739-38d66adf2bd8",
   "metadata": {},
   "source": [
    "# THE END."
   ]
  },
  {
   "cell_type": "markdown",
   "id": "1bd0e844-d5ae-4051-837c-76d95891835b",
   "metadata": {},
   "source": [
    "# __________________________________________________________________"
   ]
  }
 ],
 "metadata": {
  "kernelspec": {
   "display_name": "Python 3 (ipykernel)",
   "language": "python",
   "name": "python3"
  },
  "language_info": {
   "codemirror_mode": {
    "name": "ipython",
    "version": 3
   },
   "file_extension": ".py",
   "mimetype": "text/x-python",
   "name": "python",
   "nbconvert_exporter": "python",
   "pygments_lexer": "ipython3",
   "version": "3.9.19"
  }
 },
 "nbformat": 4,
 "nbformat_minor": 5
}
